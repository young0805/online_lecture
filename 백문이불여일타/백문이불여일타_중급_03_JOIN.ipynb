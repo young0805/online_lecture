{
 "cells": [
  {
   "cell_type": "markdown",
   "metadata": {},
   "source": [
    "# join\n",
    "두개 이상의 테이블을 흩어진 정보들을 이어 붙이기 위한 함수."
   ]
  },
  {
   "cell_type": "markdown",
   "metadata": {},
   "source": [
    "\n",
    "- sql join 시각화 : https://sql-joins.leopard.in.ua/\n",
    "\n",
    "- sql 데이터 : https://www.w3schools.com/sql/trysql.asp?filename=trysql_op_in\n",
    "\n",
    "<br><br>\n",
    "\n",
    "--------"
   ]
  },
  {
   "cell_type": "markdown",
   "metadata": {},
   "source": [
    "## 1. inner join -> 교집합.\n",
    "- 서로 공통적인 부분을 갖고 있을 때 사용.\n",
    "- 양 쪽 테이블에 정보가 있을 때만 출력이 된다."
   ]
  },
  {
   "cell_type": "markdown",
   "metadata": {},
   "source": [
    "**<구조>**\n",
    "\n",
    "SELECT *\n",
    "\n",
    "FROM Table1\n",
    "\n",
    "    INNER JOIN Table2 ON key1 = key2"
   ]
  },
  {
   "cell_type": "markdown",
   "metadata": {},
   "source": [
    "여태까지, FROM에 테이블 하나만 넣었다. \n",
    "\n",
    "테이블 두개 이상을 넣을 경우 **FROM users, orders** 조합에서 나올 수 있는 모든 조합이 나온다. \n",
    "\n",
    "그 조합 안에서 **WHERE** 문을 통해 우리가 원하는 테이블을 만들어야 한다"
   ]
  },
  {
   "cell_type": "markdown",
   "metadata": {},
   "source": [
    "## inner join 코드"
   ]
  },
  {
   "cell_type": "markdown",
   "metadata": {},
   "source": [
    "###### OLD 코드"
   ]
  },
  {
   "cell_type": "code",
   "execution_count": 5,
   "metadata": {},
   "outputs": [
    {
     "data": {
      "text/plain": [
       "'\\nSELECT *\\nFROM usrs, orders  // 테이블 두개\\nWHERE user.id = orders.userid // WHERE 조건\\n'"
      ]
     },
     "execution_count": 5,
     "metadata": {},
     "output_type": "execute_result"
    }
   ],
   "source": [
    "'''\n",
    "SELECT *\n",
    "FROM usrs, orders  // 테이블 두개\n",
    "WHERE user.id = orders.userid // WHERE 조건\n",
    "'''"
   ]
  },
  {
   "cell_type": "markdown",
   "metadata": {},
   "source": [
    "### NEW 코드\n",
    "두 개의 코드는 결과는 같지만 new 버전 코드를 사용하자."
   ]
  },
  {
   "cell_type": "code",
   "execution_count": 6,
   "metadata": {},
   "outputs": [
    {
     "data": {
      "text/plain": [
       "'\\nSELECT *\\nFROM users\\n    INNER JOIN orders ON users.id = orders.usersid\\n'"
      ]
     },
     "execution_count": 6,
     "metadata": {},
     "output_type": "execute_result"
    }
   ],
   "source": [
    "'''\n",
    "SELECT *\n",
    "FROM users\n",
    "    INNER JOIN orders ON users.id = orders.usersid\n",
    "'''"
   ]
  },
  {
   "cell_type": "markdown",
   "metadata": {},
   "source": [
    "<br><br>"
   ]
  },
  {
   "cell_type": "markdown",
   "metadata": {},
   "source": [
    "## inner join 예시\n",
    "주문 고객 번호와 고객 번호가 일치한 사람 테이블을 보고 싶다. \n",
    "\n",
    "-> 왼쪽은 order 정보, 오른쪽은 customer 정보가 나온다"
   ]
  },
  {
   "cell_type": "code",
   "execution_count": 8,
   "metadata": {},
   "outputs": [
    {
     "data": {
      "text/plain": [
       "'\\nSELECT *\\nFROM orders\\n    INNER JOIN customers ON orders.customerid = customers.customerid\\n'"
      ]
     },
     "execution_count": 8,
     "metadata": {},
     "output_type": "execute_result"
    }
   ],
   "source": [
    "'''\n",
    "SELECT *\n",
    "FROM orders\n",
    "    INNER JOIN customers ON orders.customerid = customers.customerid\n",
    "'''"
   ]
  },
  {
   "cell_type": "markdown",
   "metadata": {},
   "source": [
    "## inner join 예시\n",
    "주문 고객번호/ 고객번호 일치 & order.shippers = shippers.id 일치한 것을 보고 싶다.\n",
    "\n",
    "-> inner join을 여러개 사용할 수 있다. \n",
    "\n",
    "-> 왼쪽은 order, 가운데 customer, 오른쪽 shipper "
   ]
  },
  {
   "cell_type": "code",
   "execution_count": 9,
   "metadata": {},
   "outputs": [
    {
     "data": {
      "text/plain": [
       "'\\nSELECT *\\nFROM orders\\n    INNER JOIN customers ON orders.customerid = customers.customerid\\n    INNER JOIN Shippers ON orders.Shipperid = Shippers.Shipperid    \\n'"
      ]
     },
     "execution_count": 9,
     "metadata": {},
     "output_type": "execute_result"
    }
   ],
   "source": [
    "'''\n",
    "SELECT *\n",
    "FROM orders\n",
    "    INNER JOIN customers ON orders.customerid = customers.customerid\n",
    "    INNER JOIN Shippers ON orders.Shipperid = Shippers.Shipperid    \n",
    "'''"
   ]
  },
  {
   "cell_type": "markdown",
   "metadata": {},
   "source": [
    "<BR><BR>"
   ]
  },
  {
   "cell_type": "markdown",
   "metadata": {},
   "source": [
    "##### ERD ; 데이터 베이스의 도식화\n",
    "컬럼명 또는 컬럼의 값이 다를 경우 데이터가 너무 복잡할 때 ERD를 통해 관계를 나타낸다. 하지만 이 내용은 고급에서 진행 될 예정 "
   ]
  },
  {
   "cell_type": "markdown",
   "metadata": {},
   "source": [
    "<BR><BR>\n",
    "\n",
    "------"
   ]
  },
  {
   "cell_type": "markdown",
   "metadata": {},
   "source": [
    "## 2. OUTER JOIN(LEFT, RIGHT)\n",
    "- INNER JOIN과 다르게 OUTER JOIN은 테이블에 값이 없어도 NULL이 출력된다."
   ]
  },
  {
   "cell_type": "markdown",
   "metadata": {},
   "source": [
    "<BR>"
   ]
  },
  {
   "cell_type": "markdown",
   "metadata": {},
   "source": [
    "### 1) LEFT JOIN : 왼쪽 테이블 기준.\n",
    "\n",
    "왼쪽 테이블을 기준으로 왼쪽 테이블에만 속한 것들만 나옴. \n",
    "\n",
    "(왼쪽 테이블에 속하지 않은 오른쪽 테이블을 출력 안됨)"
   ]
  },
  {
   "cell_type": "markdown",
   "metadata": {},
   "source": [
    "<br><br>\n",
    "\n",
    "#### 간단한 예시\n",
    "\n",
    "한번도 주문하지 않은 고객도 나올 수 있음."
   ]
  },
  {
   "cell_type": "code",
   "execution_count": 10,
   "metadata": {},
   "outputs": [
    {
     "data": {
      "text/plain": [
       "'\\nSELECT *\\nFROM users\\n    LEFT JOIN orders ON users.id = orders.userid\\n'"
      ]
     },
     "execution_count": 10,
     "metadata": {},
     "output_type": "execute_result"
    }
   ],
   "source": [
    "'''\n",
    "SELECT *\n",
    "FROM users\n",
    "    LEFT JOIN orders ON users.id = orders.userid\n",
    "'''"
   ]
  },
  {
   "cell_type": "markdown",
   "metadata": {},
   "source": [
    "<br><br>"
   ]
  },
  {
   "cell_type": "markdown",
   "metadata": {},
   "source": [
    "### LEFT JOIN 예시\n",
    "- 왼쪽 테이블을 기준으로 한번도 주문하지 않은 고객을 출력해라"
   ]
  },
  {
   "cell_type": "code",
   "execution_count": 11,
   "metadata": {},
   "outputs": [
    {
     "data": {
      "text/plain": [
       "'\\nSELECT *\\nFROM customers\\n    LEFT JOIN orders ON customers.customerid = orders.customerid\\nWHERE orderid IS NULL\\n'"
      ]
     },
     "execution_count": 11,
     "metadata": {},
     "output_type": "execute_result"
    }
   ],
   "source": [
    "'''\n",
    "SELECT *\n",
    "FROM customers\n",
    "    LEFT JOIN orders ON customers.customerid = orders.customerid\n",
    "WHERE orderid IS NULL\n",
    "'''"
   ]
  },
  {
   "cell_type": "markdown",
   "metadata": {},
   "source": [
    "<br><br>"
   ]
  },
  {
   "cell_type": "markdown",
   "metadata": {},
   "source": [
    "### 2) RIGHT  JOIN : 오른쪽 테이블 기준.\n",
    "\n",
    "대부분 보통 LEFT JOIN 사용"
   ]
  },
  {
   "cell_type": "markdown",
   "metadata": {},
   "source": [
    "<BR><BR>\n",
    "    \n",
    "-------"
   ]
  },
  {
   "cell_type": "markdown",
   "metadata": {},
   "source": [
    "<BR>"
   ]
  },
  {
   "cell_type": "markdown",
   "metadata": {},
   "source": [
    "# 문제 1: INNER JOIN\n",
    "시티.컨트리 코드와 컨트리 코드가 같다. 이 때 컨텐트가 아프리카인 도시의 이름을 출력해라"
   ]
  },
  {
   "cell_type": "markdown",
   "metadata": {},
   "source": [
    "https://www.hackerrank.com/challenges/african-cities/problem?h_r=internal-search"
   ]
  },
  {
   "cell_type": "code",
   "execution_count": 1,
   "metadata": {},
   "outputs": [
    {
     "data": {
      "text/plain": [
       "\"\\nSELECT CITY.NAME\\nFROM CITY \\n    INNER JOIN COUNTRY ON CITY.CountryCode = COUNTRY.Code \\nWHERE COUNTRY.CONTINENT = 'Africa'\\n\""
      ]
     },
     "execution_count": 1,
     "metadata": {},
     "output_type": "execute_result"
    }
   ],
   "source": [
    "'''\n",
    "SELECT CITY.NAME\n",
    "FROM CITY \n",
    "    INNER JOIN COUNTRY ON CITY.CountryCode = COUNTRY.Code \n",
    "WHERE COUNTRY.CONTINENT = 'Africa'\n",
    "'''"
   ]
  },
  {
   "cell_type": "markdown",
   "metadata": {},
   "source": [
    "<BR>"
   ]
  },
  {
   "cell_type": "markdown",
   "metadata": {},
   "source": [
    "# 문제 2: SUM\n",
    "시티.컨트리 코드와 컨트리 코드가 같다. 이 때 컨텐트가 아시아인 도시의 유명세의 합을 출력해라"
   ]
  },
  {
   "cell_type": "markdown",
   "metadata": {},
   "source": [
    "https://www.hackerrank.com/challenges/asian-population/problem?h_r=internal-search"
   ]
  },
  {
   "cell_type": "code",
   "execution_count": 3,
   "metadata": {},
   "outputs": [
    {
     "data": {
      "text/plain": [
       "\"\\nSELECT SUM(CITY.POPULATION)\\nFROM CITY\\n    INNER JOIN COUNTRY ON CITY.CountryCode = COUNTRY.Code \\nWHERE COUNTRY.CONTINENT = 'ASIA'\\n\""
      ]
     },
     "execution_count": 3,
     "metadata": {},
     "output_type": "execute_result"
    }
   ],
   "source": [
    "'''\n",
    "SELECT SUM(CITY.POPULATION)\n",
    "FROM CITY\n",
    "    INNER JOIN COUNTRY ON CITY.CountryCode = COUNTRY.Code \n",
    "WHERE COUNTRY.CONTINENT = 'ASIA'\n",
    "'''"
   ]
  },
  {
   "cell_type": "markdown",
   "metadata": {},
   "source": [
    "<BR>"
   ]
  },
  {
   "cell_type": "markdown",
   "metadata": {},
   "source": [
    "# 문제 3: FLOOR\n",
    "대륙 별 도시의 유명세를 반올림해라"
   ]
  },
  {
   "cell_type": "markdown",
   "metadata": {},
   "source": [
    "https://www.hackerrank.com/challenges/average-population-of-each-continent/problem?h_r=internal-search"
   ]
  },
  {
   "cell_type": "code",
   "execution_count": 5,
   "metadata": {},
   "outputs": [
    {
     "data": {
      "text/plain": [
       "'\\nSELECT COUNTRY.Continent\\n       , FLOOR(AVG(CITY.Population))\\nFROM CITY \\n    INNER JOIN COUNTRY ON CITY.CountryCode = COUNTRY.Code\\nGROUP BY COUNTRY.Continent\\n'"
      ]
     },
     "execution_count": 5,
     "metadata": {},
     "output_type": "execute_result"
    }
   ],
   "source": [
    "'''\n",
    "SELECT COUNTRY.Continent\n",
    "       , FLOOR(AVG(CITY.Population))\n",
    "FROM CITY \n",
    "    INNER JOIN COUNTRY ON CITY.CountryCode = COUNTRY.Code\n",
    "GROUP BY COUNTRY.Continent\n",
    "'''"
   ]
  },
  {
   "cell_type": "markdown",
   "metadata": {},
   "source": [
    "<BR>"
   ]
  },
  {
   "cell_type": "markdown",
   "metadata": {},
   "source": [
    "# 문제 4: WHERE IS NULL"
   ]
  },
  {
   "cell_type": "markdown",
   "metadata": {},
   "source": [
    "NULL 값을 찾을 때는, **WHERE 컬럼 IS NULL**"
   ]
  },
  {
   "cell_type": "markdown",
   "metadata": {},
   "source": [
    "https://leetcode.com/problems/customers-who-never-order/"
   ]
  },
  {
   "cell_type": "code",
   "execution_count": 6,
   "metadata": {},
   "outputs": [
    {
     "data": {
      "text/plain": [
       "'\\nSELECT c.NAME AS Customers\\nFROM Customers AS c\\n    LEFT JOIN Orders AS o ON c.ID = o.CustomerID \\nWHERE o.ID IS NULL\\n'"
      ]
     },
     "execution_count": 6,
     "metadata": {},
     "output_type": "execute_result"
    }
   ],
   "source": [
    "'''\n",
    "SELECT c.NAME AS Customers\n",
    "FROM Customers AS c\n",
    "    LEFT JOIN Orders AS o ON c.ID = o.CustomerID \n",
    "WHERE o.ID IS NULL\n",
    "'''"
   ]
  },
  {
   "cell_type": "markdown",
   "metadata": {},
   "source": [
    "<BR>"
   ]
  },
  {
   "cell_type": "markdown",
   "metadata": {},
   "source": [
    "# 문제 5: Self JOIN\n",
    "사수 보다 돈을 더 많이 버는 직원을 찾아라"
   ]
  },
  {
   "cell_type": "markdown",
   "metadata": {},
   "source": [
    "##### **정답** : 직원's 매니저 아이디 = 매니저's 아이디"
   ]
  },
  {
   "cell_type": "code",
   "execution_count": 9,
   "metadata": {},
   "outputs": [
    {
     "data": {
      "text/plain": [
       "'\\nSELECT E.NAME AS Employee\\nFROM Employee AS E\\n    INNER JOIN Employee AS M ON E.ManagerID = M.Id  \\nWHERE E.Salary> M.salary\\n\\n'"
      ]
     },
     "execution_count": 9,
     "metadata": {},
     "output_type": "execute_result"
    }
   ],
   "source": [
    "'''\n",
    "SELECT E.NAME AS Employee\n",
    "FROM Employee AS E\n",
    "    INNER JOIN Employee AS M ON E.ManagerID = M.Id  \n",
    "WHERE E.Salary> M.salary\n",
    "\n",
    "'''"
   ]
  },
  {
   "cell_type": "markdown",
   "metadata": {},
   "source": [
    "##### 왜 틀렸는지 아무리 생각해도 모르겠음... -> 이유를 찾았다... => Seif JOIN을 할 때, 꼭 AS 사용하자\n",
    "\n",
    "##### **오답* : 직원's 직원 아이디 = 매니저's  매니저 아이디"
   ]
  },
  {
   "cell_type": "code",
   "execution_count": 10,
   "metadata": {},
   "outputs": [
    {
     "data": {
      "text/plain": [
       "'\\nSELECT *\\nFROM Employee AS E\\n    INNER JOIN Employee AS M ON E.Id = M.ManagerId  \\nWHERE E.Salary> M.salary\\n'"
      ]
     },
     "execution_count": 10,
     "metadata": {},
     "output_type": "execute_result"
    }
   ],
   "source": [
    "'''\n",
    "SELECT *\n",
    "FROM Employee AS E\n",
    "    INNER JOIN Employee AS M ON E.Id = M.ManagerId  \n",
    "WHERE E.Salary> M.salary\n",
    "'''"
   ]
  },
  {
   "cell_type": "markdown",
   "metadata": {},
   "source": [
    "<br>"
   ]
  },
  {
   "cell_type": "markdown",
   "metadata": {},
   "source": [
    "# 문제 5: DATE_ADD(기준날짜, INTERVAL)\n",
    "전 날 보다 온도가 오른 날은 언제인가?"
   ]
  },
  {
   "cell_type": "markdown",
   "metadata": {},
   "source": [
    "https://leetcode.com/problems/rising-temperature/"
   ]
  },
  {
   "cell_type": "code",
   "execution_count": 13,
   "metadata": {},
   "outputs": [
    {
     "data": {
      "text/plain": [
       "'\\nSELECT Weather.ID AS ID\\nFROM Weather\\n    INNER JOIN Weather AS copy ON Weather.RecordDate = DATE_ADD(copy.RecordDate, INTERVAL 1 DAY)\\nWHERE Weather.Temperature > copy.Temperature    \\n'"
      ]
     },
     "execution_count": 13,
     "metadata": {},
     "output_type": "execute_result"
    }
   ],
   "source": [
    "'''\n",
    "SELECT Weather.ID AS ID\n",
    "FROM Weather\n",
    "    INNER JOIN Weather AS copy ON Weather.RecordDate = DATE_ADD(copy.RecordDate, INTERVAL 1 DAY)\n",
    "WHERE Weather.Temperature > copy.Temperature    \n",
    "'''"
   ]
  },
  {
   "cell_type": "markdown",
   "metadata": {},
   "source": [
    "##### **오답* : MYSQL 날짜를 이렇게 더하면 안된다. DATE_ADD/DATE_SUB를 사용해야한다"
   ]
  },
  {
   "cell_type": "code",
   "execution_count": 12,
   "metadata": {},
   "outputs": [
    {
     "data": {
      "text/plain": [
       "'\\nSELECT Weather.ID AS ID\\nFROM Weather\\n    INNER JOIN Weather AS copy ON Weather.RecordDate = copy.RecordDate+1\\nWHERE Weather.Temperature > copy.Temperature    \\n'"
      ]
     },
     "execution_count": 12,
     "metadata": {},
     "output_type": "execute_result"
    }
   ],
   "source": [
    "'''\n",
    "SELECT Weather.ID AS ID\n",
    "FROM Weather\n",
    "    INNER JOIN Weather AS copy ON Weather.RecordDate = copy.RecordDate+1\n",
    "WHERE Weather.Temperature > copy.Temperature    \n",
    "'''"
   ]
  },
  {
   "cell_type": "markdown",
   "metadata": {},
   "source": [
    "### 참고: MYSQL 시간 더하기, 빼기"
   ]
  },
  {
   "cell_type": "markdown",
   "metadata": {},
   "source": [
    "##### DATE_ADD(기준날짜, INTERVAL)\n",
    "- SELECT DATE_ADD(NOW(), INTERVAL 1 SECOND)\n",
    "- SELECT DATE_ADD(NOW(), INTERVAL 1 MINUTE)\n",
    "- SELECT DATE_ADD(NOW(), INTERVAL 1 HOUR)\n",
    "- SELECT DATE_ADD(NOW(), INTERVAL 1 DAY)\n",
    "- SELECT DATE_ADD(NOW(), INTERVAL 1 MONTH)\n",
    "- SELECT DATE_ADD(NOW(), INTERVAL 1 YEAR)\n",
    "- SELECT DATE_ADD(NOW(), INTERVAL -1 YEAR)"
   ]
  },
  {
   "cell_type": "markdown",
   "metadata": {},
   "source": [
    "##### DATE_SUB(기준날짜, INTERVAL)\n",
    "- SELECT DATE_SUB(NOW(), INTERVAL 1 SECOND)"
   ]
  },
  {
   "cell_type": "code",
   "execution_count": null,
   "metadata": {},
   "outputs": [],
   "source": []
  }
 ],
 "metadata": {
  "kernelspec": {
   "display_name": "Python 3",
   "language": "python",
   "name": "python3"
  },
  "language_info": {
   "codemirror_mode": {
    "name": "ipython",
    "version": 3
   },
   "file_extension": ".py",
   "mimetype": "text/x-python",
   "name": "python",
   "nbconvert_exporter": "python",
   "pygments_lexer": "ipython3",
   "version": "3.7.4"
  }
 },
 "nbformat": 4,
 "nbformat_minor": 2
}
