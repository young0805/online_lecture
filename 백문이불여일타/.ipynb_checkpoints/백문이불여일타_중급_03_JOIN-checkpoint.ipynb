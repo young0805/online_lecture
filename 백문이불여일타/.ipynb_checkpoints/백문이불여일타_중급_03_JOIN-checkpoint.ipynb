{
 "cells": [
  {
   "cell_type": "markdown",
   "metadata": {},
   "source": [
    "# join\n",
    "두개 이상의 테이블을 흩어진 정보들을 이어 붙이기 위한 함수."
   ]
  },
  {
   "cell_type": "markdown",
   "metadata": {},
   "source": [
    "\n",
    "- sql join 시각화 : https://sql-joins.leopard.in.ua/\n",
    "\n",
    "- sql 데이터 : https://www.w3schools.com/sql/trysql.asp?filename=trysql_op_in\n",
    "\n",
    "<br><br>\n",
    "\n",
    "--------"
   ]
  },
  {
   "cell_type": "markdown",
   "metadata": {},
   "source": [
    "## 1. inner join -> 교집합.\n",
    "- 서로 공통적인 부분을 갖고 있을 때 사용.\n",
    "- 양 쪽 테이블에 정보가 있을 때만 출력이 된다."
   ]
  },
  {
   "cell_type": "markdown",
   "metadata": {},
   "source": [
    "**<구조>**\n",
    "\n",
    "SELECT *\n",
    "\n",
    "FROM Table1\n",
    "\n",
    "    INNER JOIN Table2 ON key1 = key2"
   ]
  },
  {
   "cell_type": "markdown",
   "metadata": {},
   "source": [
    "여태까지, FROM에 테이블 하나만 넣었다. \n",
    "\n",
    "테이블 두개 이상을 넣을 경우 **FROM users, orders** 조합에서 나올 수 있는 모든 조합이 나온다. \n",
    "\n",
    "그 조합 안에서 **WHERE** 문을 통해 우리가 원하는 테이블을 만들어야 한다"
   ]
  },
  {
   "cell_type": "markdown",
   "metadata": {},
   "source": [
    "## inner join 코드"
   ]
  },
  {
   "cell_type": "markdown",
   "metadata": {},
   "source": [
    "###### OLD 코드"
   ]
  },
  {
   "cell_type": "code",
   "execution_count": 5,
   "metadata": {},
   "outputs": [
    {
     "data": {
      "text/plain": [
       "'\\nSELECT *\\nFROM usrs, orders  // 테이블 두개\\nWHERE user.id = orders.userid // WHERE 조건\\n'"
      ]
     },
     "execution_count": 5,
     "metadata": {},
     "output_type": "execute_result"
    }
   ],
   "source": [
    "'''\n",
    "SELECT *\n",
    "FROM usrs, orders  // 테이블 두개\n",
    "WHERE user.id = orders.userid // WHERE 조건\n",
    "'''"
   ]
  },
  {
   "cell_type": "markdown",
   "metadata": {},
   "source": [
    "### NEW 코드\n",
    "두 개의 코드는 결과는 같지만 new 버전 코드를 사용하자."
   ]
  },
  {
   "cell_type": "code",
   "execution_count": 6,
   "metadata": {},
   "outputs": [
    {
     "data": {
      "text/plain": [
       "'\\nSELECT *\\nFROM users\\n    INNER JOIN orders ON users.id = orders.usersid\\n'"
      ]
     },
     "execution_count": 6,
     "metadata": {},
     "output_type": "execute_result"
    }
   ],
   "source": [
    "'''\n",
    "SELECT *\n",
    "FROM users\n",
    "    INNER JOIN orders ON users.id = orders.usersid\n",
    "'''"
   ]
  },
  {
   "cell_type": "markdown",
   "metadata": {},
   "source": [
    "<br><br>"
   ]
  },
  {
   "cell_type": "markdown",
   "metadata": {},
   "source": [
    "## inner join 예시\n",
    "주문 고객 번호와 고객 번호가 일치한 사람 테이블을 보고 싶다. \n",
    "\n",
    "-> 왼쪽은 order 정보, 오른쪽은 customer 정보가 나온다"
   ]
  },
  {
   "cell_type": "code",
   "execution_count": 8,
   "metadata": {},
   "outputs": [
    {
     "data": {
      "text/plain": [
       "'\\nSELECT *\\nFROM orders\\n    INNER JOIN customers ON orders.customerid = customers.customerid\\n'"
      ]
     },
     "execution_count": 8,
     "metadata": {},
     "output_type": "execute_result"
    }
   ],
   "source": [
    "'''\n",
    "SELECT *\n",
    "FROM orders\n",
    "    INNER JOIN customers ON orders.customerid = customers.customerid\n",
    "'''"
   ]
  },
  {
   "cell_type": "markdown",
   "metadata": {},
   "source": [
    "## inner join 예시\n",
    "주문 고객번호/ 고객번호 일치 & order.shippers = shippers.id 일치한 것을 보고 싶다.\n",
    "\n",
    "-> inner join을 여러개 사용할 수 있다. \n",
    "\n",
    "-> 왼쪽은 order, 가운데 customer, 오른쪽 shipper "
   ]
  },
  {
   "cell_type": "code",
   "execution_count": 9,
   "metadata": {},
   "outputs": [
    {
     "data": {
      "text/plain": [
       "'\\nSELECT *\\nFROM orders\\n    INNER JOIN customers ON orders.customerid = customers.customerid\\n    INNER JOIN Shippers ON orders.Shipperid = Shippers.Shipperid    \\n'"
      ]
     },
     "execution_count": 9,
     "metadata": {},
     "output_type": "execute_result"
    }
   ],
   "source": [
    "'''\n",
    "SELECT *\n",
    "FROM orders\n",
    "    INNER JOIN customers ON orders.customerid = customers.customerid\n",
    "    INNER JOIN Shippers ON orders.Shipperid = Shippers.Shipperid    \n",
    "'''"
   ]
  },
  {
   "cell_type": "markdown",
   "metadata": {},
   "source": [
    "<BR><BR>"
   ]
  },
  {
   "cell_type": "markdown",
   "metadata": {},
   "source": [
    "##### ERD ; 데이터 베이스의 도식화\n",
    "컬럼명 또는 컬럼의 값이 다를 경우 데이터가 너무 복잡할 때 ERD를 통해 관계를 나타낸다. 하지만 이 내용은 고급에서 진행 될 예정 "
   ]
  },
  {
   "cell_type": "markdown",
   "metadata": {},
   "source": [
    "<BR><BR>\n",
    "\n",
    "------"
   ]
  },
  {
   "cell_type": "markdown",
   "metadata": {},
   "source": [
    "## 2. OUTER JOIN(LEFT, RIGHT)\n",
    "- INNER JOIN과 다르게 OUTER JOIN은 테이블에 값이 없어도 NULL이 출력된다."
   ]
  },
  {
   "cell_type": "markdown",
   "metadata": {},
   "source": [
    "<BR>"
   ]
  },
  {
   "cell_type": "markdown",
   "metadata": {},
   "source": [
    "### 1) LEFT JOIN : 왼쪽 테이블 기준.\n",
    "\n",
    "왼쪽 테이블을 기준으로 왼쪽 테이블에만 속한 것들만 나옴. \n",
    "\n",
    "(왼쪽 테이블에 속하지 않은 오른쪽 테이블을 출력 안됨)"
   ]
  },
  {
   "cell_type": "markdown",
   "metadata": {},
   "source": [
    "<br><br>\n",
    "\n",
    "#### 간단한 예시\n",
    "\n",
    "한번도 주문하지 않은 고객도 나올 수 있음."
   ]
  },
  {
   "cell_type": "code",
   "execution_count": 10,
   "metadata": {},
   "outputs": [
    {
     "data": {
      "text/plain": [
       "'\\nSELECT *\\nFROM users\\n    LEFT JOIN orders ON users.id = orders.userid\\n'"
      ]
     },
     "execution_count": 10,
     "metadata": {},
     "output_type": "execute_result"
    }
   ],
   "source": [
    "'''\n",
    "SELECT *\n",
    "FROM users\n",
    "    LEFT JOIN orders ON users.id = orders.userid\n",
    "'''"
   ]
  },
  {
   "cell_type": "markdown",
   "metadata": {},
   "source": [
    "<br><br>"
   ]
  },
  {
   "cell_type": "markdown",
   "metadata": {},
   "source": [
    "### LEFT JOIN 예시\n",
    "- 왼쪽 테이블을 기준으로 한번도 주문하지 않은 고객을 출력해라"
   ]
  },
  {
   "cell_type": "code",
   "execution_count": 11,
   "metadata": {},
   "outputs": [
    {
     "data": {
      "text/plain": [
       "'\\nSELECT *\\nFROM customers\\n    LEFT JOIN orders ON customers.customerid = orders.customerid\\nWHERE orderid IS NULL\\n'"
      ]
     },
     "execution_count": 11,
     "metadata": {},
     "output_type": "execute_result"
    }
   ],
   "source": [
    "'''\n",
    "SELECT *\n",
    "FROM customers\n",
    "    LEFT JOIN orders ON customers.customerid = orders.customerid\n",
    "WHERE orderid IS NULL\n",
    "'''"
   ]
  },
  {
   "cell_type": "markdown",
   "metadata": {},
   "source": [
    "<br><br>"
   ]
  },
  {
   "cell_type": "markdown",
   "metadata": {},
   "source": [
    "### 2) RIGHT  JOIN : 오른쪽 테이블 기준.\n",
    "\n",
    "대부분 보통 LEFT JOIN 사용"
   ]
  },
  {
   "cell_type": "markdown",
   "metadata": {},
   "source": [
    "<BR><BR>\n",
    "    \n",
    "-------"
   ]
  },
  {
   "cell_type": "markdown",
   "metadata": {},
   "source": [
    "# 문제"
   ]
  },
  {
   "cell_type": "markdown",
   "metadata": {},
   "source": [
    "<BR>"
   ]
  },
  {
   "cell_type": "markdown",
   "metadata": {},
   "source": [
    "# 문제 1\n",
    "시티.컨트리 코드와 컨트리 코드가 같다. 이 때 컨텐트가 아프리카인 도시의 이름을 출력해라"
   ]
  },
  {
   "cell_type": "markdown",
   "metadata": {},
   "source": [
    "https://www.hackerrank.com/challenges/african-cities/problem?h_r=internal-search"
   ]
  },
  {
   "cell_type": "code",
   "execution_count": 1,
   "metadata": {},
   "outputs": [
    {
     "data": {
      "text/plain": [
       "\"\\nSELECT CITY.NAME\\nFROM CITY \\n    INNER JOIN COUNTRY ON CITY.CountryCode = COUNTRY.Code \\nWHERE COUNTRY.CONTINENT = 'Africa'\\n\""
      ]
     },
     "execution_count": 1,
     "metadata": {},
     "output_type": "execute_result"
    }
   ],
   "source": [
    "'''\n",
    "SELECT CITY.NAME\n",
    "FROM CITY \n",
    "    INNER JOIN COUNTRY ON CITY.CountryCode = COUNTRY.Code \n",
    "WHERE COUNTRY.CONTINENT = 'Africa'\n",
    "'''"
   ]
  },
  {
   "cell_type": "markdown",
   "metadata": {},
   "source": [
    "<BR>"
   ]
  },
  {
   "cell_type": "markdown",
   "metadata": {},
   "source": [
    "# 문제 2: \n",
    "시티.컨트리 코드와 컨트리 코드가 같다. 이 때 컨텐트가 아시아인 도시의 유명세의 합을 출력해라"
   ]
  },
  {
   "cell_type": "markdown",
   "metadata": {},
   "source": [
    "https://www.hackerrank.com/challenges/asian-population/problem?h_r=internal-search"
   ]
  },
  {
   "cell_type": "code",
   "execution_count": 3,
   "metadata": {},
   "outputs": [
    {
     "data": {
      "text/plain": [
       "\"\\nSELECT SUM(CITY.POPULATION)\\nFROM CITY\\n    INNER JOIN COUNTRY ON CITY.CountryCode = COUNTRY.Code \\nWHERE COUNTRY.CONTINENT = 'ASIA'\\n\""
      ]
     },
     "execution_count": 3,
     "metadata": {},
     "output_type": "execute_result"
    }
   ],
   "source": [
    "'''\n",
    "SELECT SUM(CITY.POPULATION)\n",
    "FROM CITY\n",
    "    INNER JOIN COUNTRY ON CITY.CountryCode = COUNTRY.Code \n",
    "WHERE COUNTRY.CONTINENT = 'ASIA'\n",
    "'''"
   ]
  },
  {
   "cell_type": "markdown",
   "metadata": {},
   "source": [
    "<BR>"
   ]
  },
  {
   "cell_type": "markdown",
   "metadata": {},
   "source": [
    "# 문제 3:\n",
    "대륙 별 도시의 유명세를 반올림해라"
   ]
  },
  {
   "cell_type": "markdown",
   "metadata": {},
   "source": [
    "https://www.hackerrank.com/challenges/average-population-of-each-continent/problem?h_r=internal-search"
   ]
  },
  {
   "cell_type": "code",
   "execution_count": 5,
   "metadata": {},
   "outputs": [
    {
     "data": {
      "text/plain": [
       "'\\nSELECT COUNTRY.Continent\\n       , FLOOR(AVG(CITY.Population))\\nFROM CITY \\n    INNER JOIN COUNTRY ON CITY.CountryCode = COUNTRY.Code\\nGROUP BY COUNTRY.Continent\\n'"
      ]
     },
     "execution_count": 5,
     "metadata": {},
     "output_type": "execute_result"
    }
   ],
   "source": [
    "'''\n",
    "SELECT COUNTRY.Continent\n",
    "       , FLOOR(AVG(CITY.Population))\n",
    "FROM CITY \n",
    "    INNER JOIN COUNTRY ON CITY.CountryCode = COUNTRY.Code\n",
    "GROUP BY COUNTRY.Continent\n",
    "'''"
   ]
  },
  {
   "cell_type": "markdown",
   "metadata": {},
   "source": [
    "<BR>"
   ]
  },
  {
   "cell_type": "markdown",
   "metadata": {},
   "source": [
    "# 문제 4:"
   ]
  },
  {
   "cell_type": "code",
   "execution_count": null,
   "metadata": {},
   "outputs": [],
   "source": []
  }
 ],
 "metadata": {
  "kernelspec": {
   "display_name": "Python 3",
   "language": "python",
   "name": "python3"
  },
  "language_info": {
   "codemirror_mode": {
    "name": "ipython",
    "version": 3
   },
   "file_extension": ".py",
   "mimetype": "text/x-python",
   "name": "python",
   "nbconvert_exporter": "python",
   "pygments_lexer": "ipython3",
   "version": "3.7.4"
  }
 },
 "nbformat": 4,
 "nbformat_minor": 2
}
