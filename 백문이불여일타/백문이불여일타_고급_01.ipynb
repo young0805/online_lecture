{
 "cells": [
  {
   "cell_type": "markdown",
   "metadata": {},
   "source": [
    "## DML 요약 정리\n",
    "#### DML: Data Manipulation Language"
   ]
  },
  {
   "cell_type": "markdown",
   "metadata": {},
   "source": [
    "<br>\n",
    "\n",
    "---------------------"
   ]
  },
  {
   "cell_type": "markdown",
   "metadata": {},
   "source": [
    "## 1. Insert\n",
    "\n",
    "<br>\n",
    "\n",
    "### 1) 테이블 전체에 데이터 추가하는 방법"
   ]
  },
  {
   "cell_type": "markdown",
   "metadata": {},
   "source": [
    "**INSERT INTO** 테이블명 **VALUES**(VALUE_LIST);\n",
    "<BR>\n",
    "예시: **INSERT INTO** Salary **VALUES**('1', 'A', '250', '2020-03-31');"
   ]
  },
  {
   "cell_type": "markdown",
   "metadata": {},
   "source": [
    "<BR>\n",
    "\n",
    "### 2) 값을 저장할 열 지정하기\n",
    "**INSERT INTO** 테이블명 (COUNT_LIST) **VALUES**(VALUE_LIST);\n",
    "<BR>\n",
    "예시: **INSERT INTO** Salary (Id, Salary) **VALUES**('2', '550'); -> Null 디폴트 값"
   ]
  },
  {
   "cell_type": "markdown",
   "metadata": {},
   "source": [
    "<br>\n",
    "<br>\n",
    "\n",
    "------------------------\n",
    "\n",
    "\n",
    "## 2. UPDATE\n",
    "\n",
    "<br>\n",
    "\n",
    "### 1) 컬럼 전체에 데이터 업데이트\n",
    "**UPDATAE** 테이블명 **SET** 컬럼 = 값;\n",
    "<BR>\n",
    "예시: **UPDATE** Salary **SET** Salary = Salary + 100;\n",
    "    \n",
    "    \n",
    "- UPDATE에서 **=** : 대입 연산자 "
   ]
  },
  {
   "cell_type": "markdown",
   "metadata": {},
   "source": [
    "<br>\n",
    "\n",
    "### 2) 지정 행의 값 갱신하기\n",
    "**UPDATAE** 테이블명 **SET** 컬럼 = 값 **WHERE** 조건식;\n",
    "<BR>\n",
    "예시: **UPDATE** Salary **SET** Salary = Salary + 100 **WHERE** Id=2 ;\n"
   ]
  },
  {
   "cell_type": "markdown",
   "metadata": {},
   "source": [
    "<br>\n",
    "<br>\n",
    "\n",
    "------------------------\n",
    "\n",
    "\n",
    "## 3. DELETE\n",
    "\n",
    "<br>\n",
    "\n",
    "### 1) 테이블 전체에 데이터 삭제하는 방법\n",
    "**DELETE** **FROM** 테이블명;\n",
    "<BR>\n",
    "예시: **DELETE** **FROM** Salary;\n",
    "    \n",
    "   "
   ]
  },
  {
   "cell_type": "markdown",
   "metadata": {},
   "source": [
    "<br>\n",
    "\n",
    "### 2) WHERE 조건에 일치하는 모든 행 삭제\n",
    "**DELETE** **FROM** 테이블명 **WHERE** 조건식;\n",
    "<BR>\n",
    "예시: **DELETE** **FROM** Salary **WHERE** Id=2;"
   ]
  },
  {
   "cell_type": "markdown",
   "metadata": {},
   "source": [
    "<br><br>\n",
    "\n",
    "----------------------\n",
    "\n",
    "## 연습문제 1. Swap Salary_CASE"
   ]
  },
  {
   "cell_type": "markdown",
   "metadata": {},
   "source": [
    "https://leetcode.com/problems/swap-salary/"
   ]
  },
  {
   "cell_type": "code",
   "execution_count": null,
   "metadata": {},
   "outputs": [],
   "source": []
  },
  {
   "cell_type": "code",
   "execution_count": null,
   "metadata": {},
   "outputs": [],
   "source": []
  },
  {
   "cell_type": "code",
   "execution_count": null,
   "metadata": {},
   "outputs": [],
   "source": []
  },
  {
   "cell_type": "markdown",
   "metadata": {},
   "source": [
    "<br><br>\n",
    "\n",
    "----------------------\n",
    "\n",
    "## 연습문제 2. Delete Duplicate Emails_서브쿼리, DELETE JOIN"
   ]
  },
  {
   "cell_type": "markdown",
   "metadata": {},
   "source": [
    "https://leetcode.com/problems/delete-duplicate-emails/"
   ]
  },
  {
   "cell_type": "code",
   "execution_count": null,
   "metadata": {},
   "outputs": [],
   "source": []
  }
 ],
 "metadata": {
  "kernelspec": {
   "display_name": "Python 3",
   "language": "python",
   "name": "python3"
  },
  "language_info": {
   "codemirror_mode": {
    "name": "ipython",
    "version": 3
   },
   "file_extension": ".py",
   "mimetype": "text/x-python",
   "name": "python",
   "nbconvert_exporter": "python",
   "pygments_lexer": "ipython3",
   "version": "3.7.4"
  }
 },
 "nbformat": 4,
 "nbformat_minor": 2
}
