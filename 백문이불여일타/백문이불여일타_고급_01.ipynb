{
 "cells": [
  {
   "cell_type": "markdown",
   "metadata": {},
   "source": [
    "## DML 요약 정리\n",
    "#### DML: Data Manipulation Language"
   ]
  },
  {
   "cell_type": "markdown",
   "metadata": {},
   "source": [
    "<br>\n",
    "\n",
    "---------------------"
   ]
  },
  {
   "cell_type": "markdown",
   "metadata": {},
   "source": [
    "## 1. Insert\n",
    "\n",
    "<br>\n",
    "\n",
    "### 1) 테이블 전체에 데이터 추가하는 방법"
   ]
  },
  {
   "cell_type": "markdown",
   "metadata": {},
   "source": [
    "**INSERT INTO** 테이블명 **VALUES**(VALUE_LIST);\n",
    "<BR>\n",
    "예시: **INSERT INTO** Salary **VALUES**('1', 'A', '250', '2020-03-31');"
   ]
  },
  {
   "cell_type": "markdown",
   "metadata": {},
   "source": [
    "<BR>\n",
    "\n",
    "### 2) 값을 저장할 열 지정하기\n",
    "**INSERT INTO** 테이블명 (COUNT_LIST) **VALUES**(VALUE_LIST);\n",
    "<BR>\n",
    "예시: **INSERT INTO** Salary (Id, Salary) **VALUES**('2', '550'); -> Null 디폴트 값"
   ]
  },
  {
   "cell_type": "markdown",
   "metadata": {},
   "source": [
    "<br>\n",
    "<br>\n",
    "\n",
    "------------------------\n",
    "\n",
    "\n",
    "## 2. UPDATE\n",
    "\n",
    "<br>\n",
    "\n",
    "### 1) 컬럼 전체에 데이터 업데이트\n",
    "**UPDATAE** 테이블명 **SET** 컬럼 = 값;\n",
    "<BR>\n",
    "예시: **UPDATE** Salary **SET** Salary = Salary + 100;\n",
    "    \n",
    "    \n",
    "- UPDATE에서 **=** : 대입 연산자 "
   ]
  },
  {
   "cell_type": "markdown",
   "metadata": {},
   "source": [
    "<br>\n",
    "\n",
    "### 2) 지정 행의 값 갱신하기\n",
    "**UPDATAE** 테이블명 **SET** 컬럼 = 값 **WHERE** 조건식;\n",
    "<BR>\n",
    "예시: **UPDATE** Salary **SET** Salary = Salary + 100 **WHERE** Id=2 ;\n"
   ]
  },
  {
   "cell_type": "markdown",
   "metadata": {},
   "source": [
    "<br>\n",
    "<br>\n",
    "\n",
    "------------------------\n",
    "\n",
    "\n",
    "## 3. DELETE\n",
    "\n",
    "<br>\n",
    "\n",
    "### 1) 테이블 전체에 데이터 삭제하는 방법\n",
    "**DELETE** **FROM** 테이블명;\n",
    "<BR>\n",
    "예시: **DELETE** **FROM** Salary;\n",
    "    \n",
    "   "
   ]
  },
  {
   "cell_type": "markdown",
   "metadata": {},
   "source": [
    "<br>\n",
    "\n",
    "### 2) WHERE 조건에 일치하는 모든 행 삭제\n",
    "**DELETE** **FROM** 테이블명 **WHERE** 조건식;\n",
    "<BR>\n",
    "예시: **DELETE** **FROM** Salary **WHERE** Id=2;"
   ]
  },
  {
   "cell_type": "markdown",
   "metadata": {},
   "source": [
    "<br><br>\n",
    "\n",
    "----------------------\n",
    "\n",
    "## 연습문제 1. Swap Salary_CASE"
   ]
  },
  {
   "cell_type": "markdown",
   "metadata": {},
   "source": [
    "https://leetcode.com/problems/swap-salary/"
   ]
  },
  {
   "cell_type": "markdown",
   "metadata": {},
   "source": [
    "**UPDEATE** Sarlry <BR>\n",
    "**SET** Name = **CASE** <BR>\n",
    "            **WHEN** id = 1 **THEN** '가' <BR>\n",
    "            **WHEN** id = 2 **THEN** '나' <BR>\n",
    "            **WHEN** id = 3 **THEN** '다' <BR>\n",
    "            **WHEN** id = 4 **THEN** '라' <BR>\n",
    "        ELSE '확인필요'\n",
    "    END;"
   ]
  },
  {
   "cell_type": "code",
   "execution_count": 1,
   "metadata": {},
   "outputs": [
    {
     "data": {
      "text/plain": [
       "\"\\nUPDATE salary\\nSET sex = CASE \\nWHEN sex = 'f' THEN 'm'\\nELSE 'f' END \\n\""
      ]
     },
     "execution_count": 1,
     "metadata": {},
     "output_type": "execute_result"
    }
   ],
   "source": [
    "'''\n",
    "UPDATE salary\n",
    "SET sex = CASE \n",
    "WHEN sex = 'f' THEN 'm'\n",
    "ELSE 'f' END \n",
    "'''"
   ]
  },
  {
   "cell_type": "markdown",
   "metadata": {},
   "source": [
    "<br><br>\n",
    "\n",
    "----------------------\n",
    "\n",
    "## 연습문제 2. Delete Duplicate Emails_서브쿼리, DELETE JOIN"
   ]
  },
  {
   "cell_type": "markdown",
   "metadata": {},
   "source": [
    "https://leetcode.com/problems/delete-duplicate-emails/"
   ]
  },
  {
   "cell_type": "markdown",
   "metadata": {},
   "source": [
    "#### 풀이 1) 서브쿼리"
   ]
  },
  {
   "cell_type": "code",
   "execution_count": 2,
   "metadata": {},
   "outputs": [
    {
     "data": {
      "text/plain": [
       "'\\nDELETE \\nFROM Person\\nWHERE Id NOT IN(\\nSELECT sub.min_id\\nFROM(\\nSELECT Email, MIN(Id) AS min_id\\nFROM Person\\nGROUP BY EMAIL\\n))sub\\n'"
      ]
     },
     "execution_count": 2,
     "metadata": {},
     "output_type": "execute_result"
    }
   ],
   "source": [
    "'''\n",
    "DELETE \n",
    "FROM Person\n",
    "WHERE Id NOT IN(\n",
    "SELECT sub.min_id\n",
    "FROM(\n",
    "SELECT Email, MIN(Id) AS min_id\n",
    "FROM Person\n",
    "GROUP BY EMAIL\n",
    "))sub\n",
    "'''"
   ]
  },
  {
   "cell_type": "markdown",
   "metadata": {},
   "source": [
    "#### 풀이 2) inner join"
   ]
  },
  {
   "cell_type": "markdown",
   "metadata": {},
   "source": [
    "참고: https://www.mysqltutorial.org/mysql-delete-join/"
   ]
  },
  {
   "cell_type": "code",
   "execution_count": 4,
   "metadata": {},
   "outputs": [
    {
     "data": {
      "text/plain": [
       "'\\nDELETE p1\\nFROM Person p1\\n    INNER JOIN Person p2 ON p1.Email = p2.Email\\nWHERE P1.Id > p2.Id\\n'"
      ]
     },
     "execution_count": 4,
     "metadata": {},
     "output_type": "execute_result"
    }
   ],
   "source": [
    "'''\n",
    "DELETE p1\n",
    "FROM Person p1\n",
    "    INNER JOIN Person p2 ON p1.Email = p2.Email\n",
    "WHERE P1.Id > p2.Id\n",
    "'''"
   ]
  },
  {
   "cell_type": "code",
   "execution_count": 6,
   "metadata": {},
   "outputs": [
    {
     "data": {
      "text/plain": [
       "'\\np1.id      p1.email       p2.id     p2.email\\n1       john@example.com     1      john@example.com  X\\n1       john@example.com     3      john@example.com  O\\n2       bob@example.com      2      bob@example.com   O\\n3       john@example.com     1      john@example.com  X\\n3       john@example.com     3      john@example.com  X\\n'"
      ]
     },
     "execution_count": 6,
     "metadata": {},
     "output_type": "execute_result"
    }
   ],
   "source": [
    "'''\n",
    "p1.id      p1.email       p2.id     p2.email\n",
    "1       john@example.com     1      john@example.com  X\n",
    "1       john@example.com     3      john@example.com  O\n",
    "2       bob@example.com      2      bob@example.com   O\n",
    "3       john@example.com     1      john@example.com  X\n",
    "3       john@example.com     3      john@example.com  X\n",
    "'''"
   ]
  },
  {
   "cell_type": "markdown",
   "metadata": {},
   "source": [
    "<BR><BR><BR>"
   ]
  },
  {
   "cell_type": "markdown",
   "metadata": {},
   "source": [
    "----------------------"
   ]
  },
  {
   "cell_type": "markdown",
   "metadata": {},
   "source": [
    "## ERD"
   ]
  },
  {
   "cell_type": "markdown",
   "metadata": {},
   "source": [
    "entity: 객체-> 테이블  <br>\n",
    "relationship:관계  <br>\n",
    "diagram: <br>\n",
    "attribute :  <br>\n",
    "   - 컬럼 이름 <br>\n",
    "   - 데이터 타입 <br>\n",
    "      -   숫자: 정수, 실수 <br>\n",
    "      -  문자: <br>\n",
    "      -  날짜: <br>"
   ]
  },
  {
   "cell_type": "code",
   "execution_count": null,
   "metadata": {},
   "outputs": [],
   "source": []
  }
 ],
 "metadata": {
  "kernelspec": {
   "display_name": "Python 3",
   "language": "python",
   "name": "python3"
  },
  "language_info": {
   "codemirror_mode": {
    "name": "ipython",
    "version": 3
   },
   "file_extension": ".py",
   "mimetype": "text/x-python",
   "name": "python",
   "nbconvert_exporter": "python",
   "pygments_lexer": "ipython3",
   "version": "3.7.4"
  }
 },
 "nbformat": 4,
 "nbformat_minor": 2
}
