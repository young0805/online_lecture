{
 "cells": [
  {
   "cell_type": "markdown",
   "metadata": {},
   "source": [
    "### 서브쿼리"
   ]
  },
  {
   "cell_type": "markdown",
   "metadata": {},
   "source": [
    "------"
   ]
  },
  {
   "cell_type": "markdown",
   "metadata": {},
   "source": [
    "### FROM절 서브쿼리 -> 가상의 테이블"
   ]
  },
  {
   "cell_type": "code",
   "execution_count": 1,
   "metadata": {},
   "outputs": [
    {
     "data": {
      "text/plain": [
       "'\\nSELECT daily_stats.week,\\n       AVG(daily_stats.incidents_daily)\\nFROM(\\n    SELECT week, \\n            date,\\n            COUNT(incident_id) AS incidents_daily\\n    FROM crimes\\n    GROUP BY week, date\\n) daily_stats\\nGROUP BY daily_stats.week\\n'"
      ]
     },
     "execution_count": 1,
     "metadata": {},
     "output_type": "execute_result"
    }
   ],
   "source": [
    "'''\n",
    "SELECT daily_stats.week,\n",
    "       AVG(daily_stats.incidents_daily)\n",
    "FROM(\n",
    "    SELECT week, \n",
    "            date,\n",
    "            COUNT(incident_id) AS incidents_daily\n",
    "    FROM crimes\n",
    "    GROUP BY week, date\n",
    ") daily_stats\n",
    "GROUP BY daily_stats.week\n",
    "'''"
   ]
  },
  {
   "cell_type": "markdown",
   "metadata": {},
   "source": [
    "### where절 서브쿼리"
   ]
  },
  {
   "cell_type": "code",
   "execution_count": 2,
   "metadata": {},
   "outputs": [
    {
     "data": {
      "text/plain": [
       "'\\nSELECT *\\nFROM crimes\\nWHERE date = (SELECT MIN(date) FROM crimes)\\n\\nSELECT *\\nFROM crimes\\nWHERE date IN (SELECT date FROM crimes ORDER BY date DESC LIMIT 5)\\n'"
      ]
     },
     "execution_count": 2,
     "metadata": {},
     "output_type": "execute_result"
    }
   ],
   "source": [
    "'''\n",
    "SELECT *\n",
    "FROM crimes\n",
    "WHERE date = (SELECT MIN(date) FROM crimes)\n",
    "\n",
    "SELECT *\n",
    "FROM crimes\n",
    "WHERE date IN (SELECT date FROM crimes ORDER BY date DESC LIMIT 5)\n",
    "'''"
   ]
  },
  {
   "cell_type": "markdown",
   "metadata": {},
   "source": [
    "<br><br>\n",
    "\n",
    "---------------------\n"
   ]
  },
  {
   "cell_type": "markdown",
   "metadata": {},
   "source": [
    "### TOP earners"
   ]
  },
  {
   "cell_type": "markdown",
   "metadata": {},
   "source": [
    "https://www.hackerrank.com/challenges/earnings-of-employees/problem?h_r=internal-search"
   ]
  },
  {
   "cell_type": "markdown",
   "metadata": {},
   "source": [
    "#### whrer절 서브쿼리"
   ]
  },
  {
   "cell_type": "code",
   "execution_count": 2,
   "metadata": {},
   "outputs": [
    {
     "data": {
      "text/plain": [
       "'\\nSELECT months * salary AS earnings, COUNT(*)\\nFROM employee\\nWHERE months * salary = (SELECT MAX(months * salary) FROM employee)\\nGROUP BY earnings\\n'"
      ]
     },
     "execution_count": 2,
     "metadata": {},
     "output_type": "execute_result"
    }
   ],
   "source": [
    "'''\n",
    "SELECT months * salary AS earnings, COUNT(*)\n",
    "FROM employee\n",
    "WHERE months * salary = (SELECT MAX(months * salary) FROM employee)\n",
    "GROUP BY earnings\n",
    "'''"
   ]
  },
  {
   "cell_type": "markdown",
   "metadata": {},
   "source": [
    "#### having 서브쿼리"
   ]
  },
  {
   "cell_type": "code",
   "execution_count": 3,
   "metadata": {},
   "outputs": [
    {
     "data": {
      "text/plain": [
       "'\\nSELECT months * salary AS earnings, COUNT(*)\\nFROM employee\\nGROUP BY earnings\\nHAVING earnings = (SELECT MAX(months * salary) FROM employee)\\n'"
      ]
     },
     "execution_count": 3,
     "metadata": {},
     "output_type": "execute_result"
    }
   ],
   "source": [
    "'''\n",
    "SELECT months * salary AS earnings, COUNT(*)\n",
    "FROM employee\n",
    "GROUP BY earnings\n",
    "HAVING earnings = (SELECT MAX(months * salary) FROM employee)\n",
    "'''"
   ]
  },
  {
   "cell_type": "markdown",
   "metadata": {},
   "source": [
    "<BR><BR>\n",
    "\n",
    "---------------"
   ]
  },
  {
   "cell_type": "markdown",
   "metadata": {},
   "source": [
    "### department-highest-salary\n",
    "https://leetcode.com/problems/department-highest-salary/"
   ]
  },
  {
   "cell_type": "markdown",
   "metadata": {},
   "source": [
    "<BR>"
   ]
  },
  {
   "cell_type": "markdown",
   "metadata": {},
   "source": [
    "#### FROM 서브쿼리"
   ]
  },
  {
   "cell_type": "code",
   "execution_count": 3,
   "metadata": {},
   "outputs": [
    {
     "data": {
      "text/plain": [
       "'\\nSELECT d.name AS department,\\n        e.name AS employee,\\n        e.salary\\nFROM employee AS e\\n    INNER JOIN (\\n    -- 부서에서 가장 많이 벌 때 임금과 부서 id\\n        SELECT department.id, MAX(salary) AS max_salary\\n        FROM employee\\n        GROUP BY departmentid\\n        ) AS dh ON e.departmentid = dh.departmentid\\n                AND e.salary = dh.max_salary\\n        INNER JOIN department AS d ON d.id = e.departmentid\\n'"
      ]
     },
     "execution_count": 3,
     "metadata": {},
     "output_type": "execute_result"
    }
   ],
   "source": [
    "'''\n",
    "SELECT d.name AS department,\n",
    "        e.name AS employee,\n",
    "        e.salary\n",
    "FROM employee AS e\n",
    "    INNER JOIN (\n",
    "    -- 부서에서 가장 많이 벌 때 임금과 부서 id\n",
    "        SELECT department.id, MAX(salary) AS max_salary\n",
    "        FROM employee\n",
    "        GROUP BY departmentid\n",
    "        ) AS dh ON e.departmentid = dh.departmentid\n",
    "                AND e.salary = dh.max_salary\n",
    "        INNER JOIN department AS d ON d.id = e.departmentid\n",
    "'''"
   ]
  },
  {
   "cell_type": "markdown",
   "metadata": {},
   "source": [
    "--------------\n",
    "<br>"
   ]
  },
  {
   "cell_type": "markdown",
   "metadata": {},
   "source": [
    "### challenges\n",
    "https://www.hackerrank.com/challenges/challenges/problem?h_r=internal-search"
   ]
  },
  {
   "cell_type": "code",
   "execution_count": 4,
   "metadata": {},
   "outputs": [
    {
     "data": {
      "text/plain": [
       "'\\nSELECT hackers.hacker_id \\n     , hackers.name\\n     , COUNT(*) challenges_created\\nFROM Challenges\\n    INNER JOIN Hackers ON Challenges.hacker_id = Hackers.hacer_id\\nGROUP BY hackers.hacker_id, hackers.name\\n-- MAX(challenges_created)\\nHAVING challenges_creates = (SELECT MAX(challenges_created)\\n                             FROM (\\n                                 SELECT hacker_id\\n                                 , COUNT(*) AS challenges_created\\n                                 FROM Challenges\\n                                 GROUP BY hacker_id\\n                             )sub\\nor challenges_created IN (SELECT challenges_created\\n                          FROM (\\n                                SELECT hacker_id,\\n                                        COUNT(*) AS challenges_created\\nFROM Challenges\\nGROUP BY ----\\n        \\n'"
      ]
     },
     "execution_count": 4,
     "metadata": {},
     "output_type": "execute_result"
    }
   ],
   "source": [
    "'''\n",
    "SELECT hackers.hacker_id \n",
    "     , hackers.name\n",
    "     , COUNT(*) challenges_created\n",
    "FROM Challenges\n",
    "    INNER JOIN Hackers ON Challenges.hacker_id = Hackers.hacer_id\n",
    "GROUP BY hackers.hacker_id, hackers.name\n",
    "-- MAX(challenges_created)\n",
    "HAVING challenges_creates = (SELECT MAX(challenges_created)\n",
    "                             FROM (\n",
    "                                 SELECT hacker_id\n",
    "                                 , COUNT(*) AS challenges_created\n",
    "                                 FROM Challenges\n",
    "                                 GROUP BY hacker_id\n",
    "                             )sub\n",
    "or challenges_created IN (SELECT challenges_created\n",
    "                          FROM (\n",
    "                                SELECT hacker_id,\n",
    "                                        COUNT(*) AS challenges_created\n",
    "FROM Challenges\n",
    "GROUP BY ----\n",
    "        \n",
    "'''"
   ]
  },
  {
   "cell_type": "markdown",
   "metadata": {},
   "source": [
    "-------\n",
    "<BR><BR>"
   ]
  },
  {
   "cell_type": "markdown",
   "metadata": {},
   "source": [
    "## JOIN 조건이 특이한 문제+ BETWEEN 조인 조건"
   ]
  },
  {
   "cell_type": "markdown",
   "metadata": {},
   "source": [
    "<BR><BR>"
   ]
  },
  {
   "cell_type": "markdown",
   "metadata": {},
   "source": [
    "### THE Report\n",
    "https://www.hackerrank.com/challenges/the-report/problem?h_r=internal-search"
   ]
  },
  {
   "cell_type": "code",
   "execution_count": 5,
   "metadata": {},
   "outputs": [
    {
     "data": {
      "text/plain": [
       "'\\nSELECT CASE WHEN g.grade < 8 THEN NULL ELSE s.name END AS NAME\\n        , g.grade\\n        , s.marks\\nFROM studments AS s\\n     INNER JOIN grades AS g ON s.marks BETWEEN g.min_mark AND g.max_mark\\nORDER BY g.grade DESC, name, s.marks\\n\\n'"
      ]
     },
     "execution_count": 5,
     "metadata": {},
     "output_type": "execute_result"
    }
   ],
   "source": [
    "'''\n",
    "SELECT CASE WHEN g.grade < 8 THEN NULL ELSE s.name END AS NAME\n",
    "        , g.grade\n",
    "        , s.marks\n",
    "FROM studments AS s\n",
    "     INNER JOIN grades AS g ON s.marks BETWEEN g.min_mark AND g.max_mark\n",
    "ORDER BY g.grade DESC, name, s.marks\n",
    "\n",
    "'''"
   ]
  },
  {
   "cell_type": "markdown",
   "metadata": {},
   "source": [
    "<br><br>"
   ]
  },
  {
   "cell_type": "markdown",
   "metadata": {},
   "source": [
    "## consecutive-numbers\n",
    "https://leetcode.com/problems/consecutive-numbers/"
   ]
  },
  {
   "cell_type": "code",
   "execution_count": null,
   "metadata": {},
   "outputs": [],
   "source": []
  }
 ],
 "metadata": {
  "kernelspec": {
   "display_name": "Python 3",
   "language": "python",
   "name": "python3"
  },
  "language_info": {
   "codemirror_mode": {
    "name": "ipython",
    "version": 3
   },
   "file_extension": ".py",
   "mimetype": "text/x-python",
   "name": "python",
   "nbconvert_exporter": "python",
   "pygments_lexer": "ipython3",
   "version": "3.7.4"
  }
 },
 "nbformat": 4,
 "nbformat_minor": 2
}
