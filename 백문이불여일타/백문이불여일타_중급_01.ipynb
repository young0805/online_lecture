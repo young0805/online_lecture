{
 "cells": [
  {
   "cell_type": "markdown",
   "metadata": {},
   "source": [
    "SQL 데이터 링크 : https://www.w3schools.com/sql/trysql.asp?filename=trysql_op_in"
   ]
  },
  {
   "cell_type": "markdown",
   "metadata": {},
   "source": [
    "<BR><BR>\n",
    "    \n",
    "---------------------\n",
    "\n",
    "# 집계 함수\n"
   ]
  },
  {
   "cell_type": "markdown",
   "metadata": {},
   "source": [
    "## COUNT : 갯수"
   ]
  },
  {
   "cell_type": "code",
   "execution_count": null,
   "metadata": {},
   "outputs": [],
   "source": [
    "'''\n",
    "SELECT COUNT(Price)\n",
    "FROM Products\n",
    "'''"
   ]
  },
  {
   "cell_type": "markdown",
   "metadata": {},
   "source": [
    "#### COUNT NULL값 주의"
   ]
  },
  {
   "cell_type": "markdown",
   "metadata": {},
   "source": [
    "*(아스타) 포함 된 COUNT할 경우는 모든 값을 포함 된 상태에서 COUNT한다."
   ]
  },
  {
   "cell_type": "markdown",
   "metadata": {},
   "source": [
    "특정 컬럼을 COUNT한 상태에서 NULL 값이 있을 경우, 그 값을 제외하고 count한다."
   ]
  },
  {
   "cell_type": "code",
   "execution_count": 10,
   "metadata": {},
   "outputs": [
    {
     "data": {
      "text/plain": [
       "'\\nSELECT COUNT(DISTINCT Name) FROM sample -> 3\\n'"
      ]
     },
     "execution_count": 10,
     "metadata": {},
     "output_type": "execute_result"
    }
   ],
   "source": [
    "'''\n",
    "SELECT COUNT(*) FROM sample; -> 5\n",
    "'''\n",
    "\n",
    "'''\n",
    "SELECT COUNT(Name) FROM sample -> 4\n",
    "\n",
    "'''\n",
    "\n",
    "'''\n",
    "SELECT COUNT(DISTINCT Name) FROM sample -> 3\n",
    "'''"
   ]
  },
  {
   "cell_type": "markdown",
   "metadata": {},
   "source": [
    "## SUM : 합계\n",
    "숫자가 포함된 컬럼에서 합계를 구할 수 있다."
   ]
  },
  {
   "cell_type": "code",
   "execution_count": 3,
   "metadata": {},
   "outputs": [
    {
     "data": {
      "text/plain": [
       "'\\nSELECT SUM(price)\\nFROM Products\\n\\n'"
      ]
     },
     "execution_count": 3,
     "metadata": {},
     "output_type": "execute_result"
    }
   ],
   "source": [
    "'''\n",
    "SELECT SUM(price)\n",
    "FROM Products\n",
    "\n",
    "'''"
   ]
  },
  {
   "cell_type": "markdown",
   "metadata": {},
   "source": [
    "## AVG : 평균"
   ]
  },
  {
   "cell_type": "markdown",
   "metadata": {},
   "source": [
    "**NULL 값 주의**\n",
    "- AVG : NULL 값 제외하고 평균\n",
    "- SUM : NULL 값 포함 하고 평균"
   ]
  },
  {
   "cell_type": "code",
   "execution_count": 4,
   "metadata": {},
   "outputs": [
    {
     "data": {
      "text/plain": [
       "'\\nSELECT AVG(Visits) FROM sample;\\n-> (1+3+3+5) / 4 = 2.75\\n'"
      ]
     },
     "execution_count": 4,
     "metadata": {},
     "output_type": "execute_result"
    }
   ],
   "source": [
    "'''\n",
    "SELECT AVG(Visits) FROM sample;\n",
    "-> (1+3+3+5) / 4 = 2.75\n",
    "'''"
   ]
  },
  {
   "cell_type": "code",
   "execution_count": 5,
   "metadata": {},
   "outputs": [
    {
     "data": {
      "text/plain": [
       "'\\nSELECT SUM(Visits)/COUNT(*)\\nFROM sample;\\n-> (1+2+3+5) / 5 = 2.2\\n'"
      ]
     },
     "execution_count": 5,
     "metadata": {},
     "output_type": "execute_result"
    }
   ],
   "source": [
    "'''\n",
    "SELECT SUM(Visits)/COUNT(*)\n",
    "FROM sample;\n",
    "-> (1+2+3+5) / 5 = 2.2\n",
    "'''"
   ]
  },
  {
   "cell_type": "markdown",
   "metadata": {},
   "source": [
    "# MIN: 최소값"
   ]
  },
  {
   "cell_type": "code",
   "execution_count": 6,
   "metadata": {},
   "outputs": [
    {
     "data": {
      "text/plain": [
       "'\\nSELECT MIN(Price)\\nFROM Products\\n'"
      ]
     },
     "execution_count": 6,
     "metadata": {},
     "output_type": "execute_result"
    }
   ],
   "source": [
    "'''\n",
    "SELECT MIN(Price)\n",
    "FROM Products\n",
    "'''"
   ]
  },
  {
   "cell_type": "markdown",
   "metadata": {},
   "source": [
    "# MAX : 최대값"
   ]
  },
  {
   "cell_type": "code",
   "execution_count": 7,
   "metadata": {},
   "outputs": [
    {
     "data": {
      "text/plain": [
       "'\\nSELECT MAX(Price)\\nFROM Products\\n'"
      ]
     },
     "execution_count": 7,
     "metadata": {},
     "output_type": "execute_result"
    }
   ],
   "source": [
    "'''\n",
    "SELECT MAX(Price)\n",
    "FROM Products\n",
    "'''"
   ]
  },
  {
   "cell_type": "markdown",
   "metadata": {},
   "source": [
    "# 종합"
   ]
  },
  {
   "cell_type": "markdown",
   "metadata": {},
   "source": [
    "Price의 갯수, 합계, 평균, 최소, 최댓값이 각 각 컬럼으로 나온다"
   ]
  },
  {
   "cell_type": "code",
   "execution_count": 8,
   "metadata": {},
   "outputs": [
    {
     "data": {
      "text/plain": [
       "'\\nSELECT COUNT(Price), SUM(Price), AVG(Price), MIN(Price), MAX(Price)\\nFROM Products\\n'"
      ]
     },
     "execution_count": 8,
     "metadata": {},
     "output_type": "execute_result"
    }
   ],
   "source": [
    "'''\n",
    "SELECT COUNT(Price), SUM(Price), AVG(Price), MIN(Price), MAX(Price)\n",
    "FROM Products\n",
    "'''"
   ]
  },
  {
   "cell_type": "markdown",
   "metadata": {},
   "source": [
    "<BR><BR>\n",
    "\n",
    "-----------------------------"
   ]
  },
  {
   "cell_type": "markdown",
   "metadata": {},
   "source": [
    "# GROUP BY / HAVING"
   ]
  },
  {
   "cell_type": "markdown",
   "metadata": {},
   "source": [
    "# GROUP BY"
   ]
  },
  {
   "cell_type": "markdown",
   "metadata": {},
   "source": [
    "GROUP BY 사용할 때는 숫자도 넣을 수 있지만 최대한 컬럼이름을 넣어주자. 그 이유는 쿼리가 계속 달라지며 코드리뷰할 때 불편하다 "
   ]
  },
  {
   "cell_type": "markdown",
   "metadata": {},
   "source": [
    "#### 코드 : 공급자(SuppliedID)의 평균 가격은 어떻게 되는가?"
   ]
  },
  {
   "cell_type": "code",
   "execution_count": 11,
   "metadata": {},
   "outputs": [
    {
     "data": {
      "text/plain": [
       "'\\nSELECT SuppliedID, AVG(Price)\\nFROM Products\\nGROUP BY Supplied\\n'"
      ]
     },
     "execution_count": 11,
     "metadata": {},
     "output_type": "execute_result"
    }
   ],
   "source": [
    "'''\n",
    "SELECT SupplierID, AVG(Price)\n",
    "FROM Products\n",
    "GROUP BY SupplierID\n",
    "'''"
   ]
  },
  {
   "cell_type": "markdown",
   "metadata": {},
   "source": [
    "#### GROUP BY에 여러 개의 컬럼을 넣을 수도 있다. "
   ]
  },
  {
   "cell_type": "code",
   "execution_count": 13,
   "metadata": {},
   "outputs": [
    {
     "data": {
      "text/plain": [
       "'\\nSELECT SupplierID\\n     , AVG(Price)\\n     , CategoryID\\nFROM Products\\nGROUP BY SupplierID, CategoryID\\nODER BY AVG(Price) DESC # 내림차순\\n'"
      ]
     },
     "execution_count": 13,
     "metadata": {},
     "output_type": "execute_result"
    }
   ],
   "source": [
    "'''\n",
    "SELECT SupplierID\n",
    "     , AVG(Price)\n",
    "     , CategoryID\n",
    "FROM Products\n",
    "GROUP BY SupplierID, CategoryID\n",
    "ODER BY AVG(Price) DESC # 내림차순\n",
    "'''"
   ]
  },
  {
   "cell_type": "markdown",
   "metadata": {},
   "source": [
    "------------------------\n",
    "<BR><BR><BR>"
   ]
  },
  {
   "cell_type": "markdown",
   "metadata": {},
   "source": [
    "# HAVING : GROUP BY 조건"
   ]
  },
  {
   "cell_type": "markdown",
   "metadata": {},
   "source": [
    "### SQL 실행 순서 : SELECT -> FROM -> WHERE -> GROUP BY.\n",
    "    \n",
    "그렇기 때문에 GROUP 안에서 조건을 넣고 싶다면 **HAVING절**을 사용하자!!!    "
   ]
  },
  {
   "cell_type": "markdown",
   "metadata": {},
   "source": [
    "##### HAVING절을 안 쓰고 조건을 줄 경우, WHERE Price >= 조건이 먼저 들어간다!!!!!!!!\n",
    "WHERE 조건이 먼저 들어간 후 GROUP BY 조건이 들어가기 때문에 결과가 달라진다."
   ]
  },
  {
   "cell_type": "code",
   "execution_count": 14,
   "metadata": {},
   "outputs": [
    {
     "data": {
      "text/plain": [
       "'\\nSELECT SupplierID\\n     , AVG(Price)\\n     , CategoryID\\nFROM Products\\nWHERE Price >= 10\\nGROUP BY SupplierID, CategoryID\\n'"
      ]
     },
     "execution_count": 14,
     "metadata": {},
     "output_type": "execute_result"
    }
   ],
   "source": [
    "'''\n",
    "SELECT SupplierID\n",
    "     , AVG(Price)\n",
    "     , CategoryID\n",
    "FROM Products\n",
    "WHERE Price >= 100\n",
    "GROUP BY SupplierID, CategoryID\n",
    "'''"
   ]
  },
  {
   "cell_type": "markdown",
   "metadata": {},
   "source": [
    "##### HAVING절을 사용한 코딩"
   ]
  },
  {
   "cell_type": "code",
   "execution_count": 15,
   "metadata": {},
   "outputs": [
    {
     "data": {
      "text/plain": [
       "'\\nSELECT SupplierID\\n     , AVG(Price)\\n     , CategoryID\\nFROM Products\\nGROUP BY SupplierID, CategoryID\\nHAVING Pirce >= 100 \\n'"
      ]
     },
     "execution_count": 15,
     "metadata": {},
     "output_type": "execute_result"
    }
   ],
   "source": [
    "'''\n",
    "SELECT SupplierID\n",
    "     , AVG(Price)\n",
    "     , CategoryID\n",
    "FROM Products\n",
    "GROUP BY SupplierID, CategoryID\n",
    "HAVING AVG(Price) >= 100 \n",
    "'''"
   ]
  },
  {
   "cell_type": "markdown",
   "metadata": {},
   "source": [
    "#### 별칭 정하기 : AS 선언 후 사용."
   ]
  },
  {
   "cell_type": "code",
   "execution_count": 16,
   "metadata": {},
   "outputs": [
    {
     "data": {
      "text/plain": [
       "'\\n\\nSELECT SupplierID\\n     , AVG(Price) AS avg_price  \\n     , CategoryID\\nFROM Products\\nGROUP BY SupplierID, CategoryID\\nHAVING avg_price >= 100 \\n\\n'"
      ]
     },
     "execution_count": 16,
     "metadata": {},
     "output_type": "execute_result"
    }
   ],
   "source": [
    "'''\n",
    "\n",
    "SELECT SupplierID\n",
    "     , AVG(Price) AS avg_price  \n",
    "     , CategoryID\n",
    "FROM Products\n",
    "GROUP BY SupplierID, CategoryID\n",
    "HAVING avg_price >= 100 \n",
    "\n",
    "'''"
   ]
  },
  {
   "cell_type": "markdown",
   "metadata": {},
   "source": [
    "<BR><BR><BR>\n",
    "\n",
    "-------"
   ]
  },
  {
   "cell_type": "markdown",
   "metadata": {},
   "source": [
    "# COUNT 문제"
   ]
  },
  {
   "cell_type": "markdown",
   "metadata": {},
   "source": [
    "# 문제 1 : MAX - MIN"
   ]
  },
  {
   "cell_type": "markdown",
   "metadata": {},
   "source": [
    "https://www.hackerrank.com/challenges/population-density-difference/problem?h_r=internal-search\n",
    "\n",
    "<BR>\n",
    "    \n",
    "참고: SELECT 구문에서 -, + 가능하다"
   ]
  },
  {
   "cell_type": "code",
   "execution_count": 17,
   "metadata": {},
   "outputs": [
    {
     "data": {
      "text/plain": [
       "'\\nSELECT MAX(POPULATION)-MIN(POPULATION)\\nFROM CITY\\n'"
      ]
     },
     "execution_count": 17,
     "metadata": {},
     "output_type": "execute_result"
    }
   ],
   "source": [
    "'''\n",
    "SELECT MAX(POPULATION)-MIN(POPULATION)\n",
    "FROM CITY\n",
    "'''"
   ]
  },
  {
   "cell_type": "markdown",
   "metadata": {},
   "source": [
    "# 문제 2 : AVG\n",
    "캘리포니아 특정 도시의 평균 유명세를 알려주세요"
   ]
  },
  {
   "cell_type": "markdown",
   "metadata": {},
   "source": [
    "https://www.hackerrank.com/challenges/revising-aggregations-the-average-function/problem?h_r=internal-search"
   ]
  },
  {
   "cell_type": "code",
   "execution_count": 19,
   "metadata": {},
   "outputs": [
    {
     "data": {
      "text/plain": [
       "\"\\nSELECT AVG(POPULATION)\\nFROM CITY\\nWHERE DISTRICT = 'California'\\n\""
      ]
     },
     "execution_count": 19,
     "metadata": {},
     "output_type": "execute_result"
    }
   ],
   "source": [
    "'''\n",
    "SELECT AVG(POPULATION)\n",
    "FROM CITY\n",
    "WHERE DISTRICT = 'California'\n",
    "'''"
   ]
  },
  {
   "cell_type": "markdown",
   "metadata": {},
   "source": [
    "# 문제 3 : SUM\n",
    "캘리포니아 특정 구역의 유명세를 토탈을 알려주세요"
   ]
  },
  {
   "cell_type": "markdown",
   "metadata": {},
   "source": [
    "https://www.hackerrank.com/challenges/revising-aggregations-sum/problem?h_r=internal-search"
   ]
  },
  {
   "cell_type": "code",
   "execution_count": 20,
   "metadata": {},
   "outputs": [
    {
     "data": {
      "text/plain": [
       "\"\\nSELECT SUM(POPULATION)\\nFROM CITY\\nWHERE District = 'California'\\n\""
      ]
     },
     "execution_count": 20,
     "metadata": {},
     "output_type": "execute_result"
    }
   ],
   "source": [
    "'''\n",
    "SELECT SUM(POPULATION)\n",
    "FROM CITY\n",
    "WHERE District = 'California'\n",
    "'''"
   ]
  },
  {
   "cell_type": "markdown",
   "metadata": {},
   "source": [
    "# 문제 4 : COUNT, WHERE\n",
    "도시 중 유명세가 100,000 초과인 곳을 알려주세요."
   ]
  },
  {
   "cell_type": "markdown",
   "metadata": {},
   "source": [
    "https://www.hackerrank.com/challenges/revising-aggregations-the-count-function/problem?h_r=internal-search"
   ]
  },
  {
   "cell_type": "code",
   "execution_count": 21,
   "metadata": {},
   "outputs": [
    {
     "data": {
      "text/plain": [
       "'\\nSELECT COUNT(NAME)\\nFROM CITY\\nWHERE Population > 100000\\n'"
      ]
     },
     "execution_count": 21,
     "metadata": {},
     "output_type": "execute_result"
    }
   ],
   "source": [
    "'''\n",
    "SELECT COUNT(NAME)\n",
    "FROM CITY\n",
    "WHERE Population > 100000\n",
    "'''"
   ]
  },
  {
   "cell_type": "markdown",
   "metadata": {},
   "source": [
    "# 문제 5: FLOOR(내림), AVG\n",
    "도시 평균 인구 중 소수점을 버려라."
   ]
  },
  {
   "cell_type": "markdown",
   "metadata": {},
   "source": [
    "https://www.hackerrank.com/challenges/average-population/problem?h_r=internal-search"
   ]
  },
  {
   "cell_type": "markdown",
   "metadata": {},
   "source": [
    "**참고**\n",
    "- CEIL() : 올림\n",
    "- ROUND() : 반올림\n",
    "- FLOOR() : 내림"
   ]
  },
  {
   "cell_type": "code",
   "execution_count": 22,
   "metadata": {},
   "outputs": [
    {
     "data": {
      "text/plain": [
       "'\\nSELECT FLOOR(AVG(POPULATION))\\nFROM CITY\\n'"
      ]
     },
     "execution_count": 22,
     "metadata": {},
     "output_type": "execute_result"
    }
   ],
   "source": [
    "'''\n",
    "SELECT FLOOR(AVG(POPULATION))\n",
    "FROM CITY\n",
    "'''"
   ]
  },
  {
   "cell_type": "markdown",
   "metadata": {},
   "source": [
    "# 문제 6: COUNT(DISTINCT)\n",
    "도시의 중복된 값을 제외하고 구해라"
   ]
  },
  {
   "cell_type": "markdown",
   "metadata": {},
   "source": [
    "https://www.hackerrank.com/challenges/weather-observation-station-4/problem"
   ]
  },
  {
   "cell_type": "code",
   "execution_count": 23,
   "metadata": {},
   "outputs": [
    {
     "data": {
      "text/plain": [
       "'\\nSELECT COUNT(CITY) - COUNT(DISTINCT(CITY))\\nFROM STATION\\n'"
      ]
     },
     "execution_count": 23,
     "metadata": {},
     "output_type": "execute_result"
    }
   ],
   "source": [
    "'''\n",
    "SELECT COUNT(CITY) - COUNT(DISTINCT(CITY))\n",
    "FROM STATION\n",
    "'''"
   ]
  },
  {
   "cell_type": "markdown",
   "metadata": {},
   "source": [
    "<BR><BR>\n",
    "    \n",
    "----------------"
   ]
  },
  {
   "cell_type": "markdown",
   "metadata": {},
   "source": [
    "# 문제 1: GORUP BY, AS , LIMIT, ORDER BY\n",
    "\n",
    "1. salary * month = earings\n",
    "2. 각 earings 별로 몇 명이 얼만큼 벌었는지 계산 -> GROUP BY\n",
    "3. earings 중에 가장 큰 값을 가져온다. -> ORDER BY, LIMIT"
   ]
  },
  {
   "cell_type": "markdown",
   "metadata": {},
   "source": [
    "https://www.hackerrank.com/challenges/earnings-of-employees/problem?h_r=internal-search"
   ]
  },
  {
   "cell_type": "code",
   "execution_count": 24,
   "metadata": {},
   "outputs": [
    {
     "data": {
      "text/plain": [
       "'\\nSELECT slary * month as earings\\n       , COUNT(*)\\nFROM employee\\nGROUP BY earings\\nORDER BY earings DESC\\nLIMIT 1\\n'"
      ]
     },
     "execution_count": 24,
     "metadata": {},
     "output_type": "execute_result"
    }
   ],
   "source": [
    "'''\n",
    "SELECT slary * month as earings\n",
    "       , COUNT(*)\n",
    "FROM employee\n",
    "GROUP BY earings\n",
    "ORDER BY earings DESC\n",
    "LIMIT 1\n",
    "'''"
   ]
  },
  {
   "cell_type": "code",
   "execution_count": null,
   "metadata": {},
   "outputs": [],
   "source": []
  }
 ],
 "metadata": {
  "kernelspec": {
   "display_name": "Python 3",
   "language": "python",
   "name": "python3"
  },
  "language_info": {
   "codemirror_mode": {
    "name": "ipython",
    "version": 3
   },
   "file_extension": ".py",
   "mimetype": "text/x-python",
   "name": "python",
   "nbconvert_exporter": "python",
   "pygments_lexer": "ipython3",
   "version": "3.7.4"
  }
 },
 "nbformat": 4,
 "nbformat_minor": 2
}
