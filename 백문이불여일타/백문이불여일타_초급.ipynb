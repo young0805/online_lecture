{
 "cells": [
  {
   "cell_type": "markdown",
   "metadata": {},
   "source": [
    "sql 테이블 \n",
    "\n",
    "https://www.w3schools.com/sql/trysql.asp?filename=trysql_op_in\n",
    "\n",
    "\n",
    "# SQL의 예약어는 대문자로 써줄 것\n",
    "\n",
    "\n",
    "<br><br>\n",
    "\n",
    "-------"
   ]
  },
  {
   "cell_type": "markdown",
   "metadata": {},
   "source": [
    "# SELECT : 데이터 선택\n",
    "# FROM : 어떤 데이터"
   ]
  },
  {
   "cell_type": "markdown",
   "metadata": {},
   "source": [
    "### 문제 1"
   ]
  },
  {
   "cell_type": "markdown",
   "metadata": {},
   "source": [
    "https://www.hackerrank.com/challenges/select-all-sql/problem"
   ]
  },
  {
   "cell_type": "code",
   "execution_count": 32,
   "metadata": {},
   "outputs": [
    {
     "ename": "SyntaxError",
     "evalue": "invalid syntax (<ipython-input-32-8ad1ff3c9240>, line 1)",
     "output_type": "error",
     "traceback": [
      "\u001b[1;36m  File \u001b[1;32m\"<ipython-input-32-8ad1ff3c9240>\"\u001b[1;36m, line \u001b[1;32m1\u001b[0m\n\u001b[1;33m    SELECT *\u001b[0m\n\u001b[1;37m            ^\u001b[0m\n\u001b[1;31mSyntaxError\u001b[0m\u001b[1;31m:\u001b[0m invalid syntax\n"
     ]
    }
   ],
   "source": [
    "SELECT *\n",
    "FROM city"
   ]
  },
  {
   "cell_type": "markdown",
   "metadata": {},
   "source": [
    "### 문제 2\n",
    "https://www.hackerrank.com/challenges/weather-observation-station-1/problem"
   ]
  },
  {
   "cell_type": "code",
   "execution_count": 33,
   "metadata": {},
   "outputs": [
    {
     "ename": "SyntaxError",
     "evalue": "invalid syntax (<ipython-input-33-8e4f9b274eb2>, line 1)",
     "output_type": "error",
     "traceback": [
      "\u001b[1;36m  File \u001b[1;32m\"<ipython-input-33-8e4f9b274eb2>\"\u001b[1;36m, line \u001b[1;32m1\u001b[0m\n\u001b[1;33m    SELECT city, state\u001b[0m\n\u001b[1;37m              ^\u001b[0m\n\u001b[1;31mSyntaxError\u001b[0m\u001b[1;31m:\u001b[0m invalid syntax\n"
     ]
    }
   ],
   "source": [
    "SELECT city, state\n",
    "FROM station"
   ]
  },
  {
   "cell_type": "markdown",
   "metadata": {},
   "source": [
    "-----------------------------------------------"
   ]
  },
  {
   "cell_type": "markdown",
   "metadata": {},
   "source": [
    "# WHERE : 특정 조건\n",
    "\n",
    "## 비교 연산자 : =, <=, >=, < , >\n",
    "- 특정 컬럼이 특정 값을 가지는 데이터만 불러오기 위해서 사용\n",
    "- 숫자 뿐 만 아니라 문자도 가능\n",
    "\n",
    "## 논리연산자 : AND , OR ,NOT\n",
    "-AND : ?\n",
    "-OR : "
   ]
  },
  {
   "cell_type": "code",
   "execution_count": 34,
   "metadata": {},
   "outputs": [
    {
     "data": {
      "text/plain": [
       "\"SQL\\n\\nSELECT *\\nFROM Customers\\nWHERE City < 'S' AND CustomerID\\t> 20 # 알파벳 순서 S 이전, 아이디 20 이상 조건 둘 다 만족\\n\\n\""
      ]
     },
     "execution_count": 34,
     "metadata": {},
     "output_type": "execute_result"
    }
   ],
   "source": [
    "'''SQL\n",
    "\n",
    "SELECT *\n",
    "FROM Customers\n",
    "WHERE City < 'S' AND CustomerID\t> 20 # 알파벳 순서 S 이전, 아이디 20 이상 조건 둘 다 만족\n",
    "\n",
    "'''"
   ]
  },
  {
   "cell_type": "markdown",
   "metadata": {},
   "source": [
    "<br><br>"
   ]
  },
  {
   "cell_type": "markdown",
   "metadata": {},
   "source": [
    "## LIKE : 문자열 패턴\n",
    "\n",
    "- % : 앞뒤 어떤 문자가 왔으면 좋겠다.\n",
    "\n",
    "와이드 카드라고 부르기도 한다"
   ]
  },
  {
   "cell_type": "markdown",
   "metadata": {},
   "source": [
    "### % 예시 "
   ]
  },
  {
   "cell_type": "code",
   "execution_count": 35,
   "metadata": {},
   "outputs": [
    {
     "data": {
      "text/plain": [
       "\"sql\\n\\nSELECT *\\nFROM Customers\\nWHERE country Like 's%' # s로 시작하는 나라를 보여줘라\\n\\n\""
      ]
     },
     "execution_count": 35,
     "metadata": {},
     "output_type": "execute_result"
    }
   ],
   "source": [
    "'''sql\n",
    "\n",
    "SELECT *\n",
    "FROM Customers\n",
    "WHERE country Like 's%' # s로 시작하는 나라를 보여줘라\n",
    "\n",
    "'''"
   ]
  },
  {
   "cell_type": "markdown",
   "metadata": {},
   "source": [
    "### _(언더바) : 빈 칸 맞추기\n",
    "\n",
    "- 예시 : 소_시대 -> 소녀시대"
   ]
  },
  {
   "cell_type": "code",
   "execution_count": 36,
   "metadata": {},
   "outputs": [
    {
     "data": {
      "text/plain": [
       "\"sql\\n\\nSELECT *\\nFROM Customers\\nWHERE country Like 's____' # s로 시작하는 S_____ 5글자가 나와라.\\n\\n\""
      ]
     },
     "execution_count": 36,
     "metadata": {},
     "output_type": "execute_result"
    }
   ],
   "source": [
    "'''sql\n",
    "\n",
    "SELECT *\n",
    "FROM Customers\n",
    "WHERE country Like 's____' # s로 시작하는 S_____ 5글자가 나와라.\n",
    "\n",
    "'''"
   ]
  },
  {
   "cell_type": "markdown",
   "metadata": {},
   "source": [
    "### = 예시 : 독일"
   ]
  },
  {
   "cell_type": "code",
   "execution_count": 37,
   "metadata": {},
   "outputs": [
    {
     "data": {
      "text/plain": [
       "\"sql\\n\\nSELECT *\\nFROM Customers\\nWHERE COUNTRY = 'Germany'\\n\\n\""
      ]
     },
     "execution_count": 37,
     "metadata": {},
     "output_type": "execute_result"
    }
   ],
   "source": [
    "'''sql\n",
    "\n",
    "SELECT *\n",
    "FROM Customers\n",
    "WHERE COUNTRY = 'Germany'\n",
    "\n",
    "'''"
   ]
  },
  {
   "cell_type": "markdown",
   "metadata": {},
   "source": [
    "### IN 예시 : 독일, 프랑스 "
   ]
  },
  {
   "cell_type": "code",
   "execution_count": 38,
   "metadata": {},
   "outputs": [
    {
     "data": {
      "text/plain": [
       "\"SQL\\n\\nSELECT *\\nFROM Customers\\nWHERE country IN ('Germany' , 'France')\\n\\n\""
      ]
     },
     "execution_count": 38,
     "metadata": {},
     "output_type": "execute_result"
    }
   ],
   "source": [
    "'''SQL\n",
    "\n",
    "SELECT *\n",
    "FROM Customers\n",
    "WHERE country IN ('Germany' , 'France')\n",
    "\n",
    "'''"
   ]
  },
  {
   "cell_type": "markdown",
   "metadata": {},
   "source": [
    "###### IN을 안 쓸 경우:"
   ]
  },
  {
   "cell_type": "code",
   "execution_count": 39,
   "metadata": {},
   "outputs": [
    {
     "data": {
      "text/plain": [
       "\"SQL\\n\\nSELECT *\\nFROM Customers\\nWHERE country ='Germany' OR country =  'France')\\n\\n\""
      ]
     },
     "execution_count": 39,
     "metadata": {},
     "output_type": "execute_result"
    }
   ],
   "source": [
    "'''SQL\n",
    "\n",
    "SELECT *\n",
    "FROM Customers\n",
    "WHERE country ='Germany' OR country =  'France')\n",
    "\n",
    "'''"
   ]
  },
  {
   "cell_type": "markdown",
   "metadata": {},
   "source": [
    "### BETWEEN"
   ]
  },
  {
   "cell_type": "code",
   "execution_count": 40,
   "metadata": {},
   "outputs": [
    {
     "data": {
      "text/plain": [
       "'\\nSELECT *\\nFROM Customers\\nWHERE CustomerID BETWEEN 3 AND 5\\n\\n'"
      ]
     },
     "execution_count": 40,
     "metadata": {},
     "output_type": "execute_result"
    }
   ],
   "source": [
    "'''\n",
    "SELECT *\n",
    "FROM Customers\n",
    "WHERE CustomerID BETWEEN 3 AND 5\n",
    "\n",
    "'''"
   ]
  },
  {
   "cell_type": "markdown",
   "metadata": {},
   "source": [
    "###### BETWEEN을 안 쓸 경우:"
   ]
  },
  {
   "cell_type": "code",
   "execution_count": 41,
   "metadata": {},
   "outputs": [
    {
     "data": {
      "text/plain": [
       "'\\nSELECT *\\nFROM Customers\\nWHERE CustomerID >= 3 AND CustomerID <=  5\\n\\n'"
      ]
     },
     "execution_count": 41,
     "metadata": {},
     "output_type": "execute_result"
    }
   ],
   "source": [
    "'''\n",
    "SELECT *\n",
    "FROM Customers\n",
    "WHERE CustomerID >= 3 AND CustomerID <=  5\n",
    "\n",
    "'''"
   ]
  },
  {
   "cell_type": "markdown",
   "metadata": {},
   "source": [
    "### ISNULL\n",
    "- NULL은 숫자도 아니고 문자도 아니다. 비어 있는 값이다."
   ]
  },
  {
   "cell_type": "code",
   "execution_count": 42,
   "metadata": {},
   "outputs": [
    {
     "data": {
      "text/plain": [
       "'\\nSELECT *\\nFROM Customers\\nWHERE CustomerID IS NULL\\n\\n'"
      ]
     },
     "execution_count": 42,
     "metadata": {},
     "output_type": "execute_result"
    }
   ],
   "source": [
    "'''\n",
    "SELECT *\n",
    "FROM Customers\n",
    "WHERE CustomerID IS NULL\n",
    "\n",
    "'''"
   ]
  },
  {
   "cell_type": "markdown",
   "metadata": {},
   "source": [
    "<BR><BR><BR>"
   ]
  },
  {
   "cell_type": "markdown",
   "metadata": {},
   "source": [
    "### 문제 1"
   ]
  },
  {
   "cell_type": "markdown",
   "metadata": {},
   "source": [
    "https://www.hackerrank.com/challenges/revising-the-select-query/problem"
   ]
  },
  {
   "cell_type": "code",
   "execution_count": 43,
   "metadata": {},
   "outputs": [
    {
     "data": {
      "text/plain": [
       "\"\\nSELECT *\\nFROM CITY\\nWHERE POPULATION > 100000 AND COUNTRYCODE = 'USA'\\n\""
      ]
     },
     "execution_count": 43,
     "metadata": {},
     "output_type": "execute_result"
    }
   ],
   "source": [
    "'''\n",
    "SELECT *\n",
    "FROM CITY\n",
    "WHERE POPULATION > 100000 AND COUNTRYCODE = 'USA'\n",
    "'''"
   ]
  },
  {
   "cell_type": "markdown",
   "metadata": {},
   "source": [
    "### 문제 2\n",
    "https://www.hackerrank.com/challenges/select-by-id/problem"
   ]
  },
  {
   "cell_type": "code",
   "execution_count": 44,
   "metadata": {},
   "outputs": [
    {
     "data": {
      "text/plain": [
       "'\\nSELECT *\\nFROM CITY\\nWHERE ID = 1661\\n'"
      ]
     },
     "execution_count": 44,
     "metadata": {},
     "output_type": "execute_result"
    }
   ],
   "source": [
    "'''\n",
    "SELECT *\n",
    "FROM CITY\n",
    "WHERE ID = 1661\n",
    "'''"
   ]
  },
  {
   "cell_type": "markdown",
   "metadata": {},
   "source": [
    "### 문제 3: DISTINCT - > 중복값 제거\n",
    "https://www.hackerrank.com/challenges/weather-observation-station-6/problem"
   ]
  },
  {
   "cell_type": "code",
   "execution_count": 45,
   "metadata": {
    "scrolled": true
   },
   "outputs": [
    {
     "data": {
      "text/plain": [
       "\"\\nSELECT DISTINCT city\\nFROM sation\\nWHERE city LIKE 'i%' \\nor city LIKE 'a%' \\nor city LIKE 'e%' \\nor city LIKE 'o%' \\nor city LIKE 'u%' \\n\""
      ]
     },
     "execution_count": 45,
     "metadata": {},
     "output_type": "execute_result"
    }
   ],
   "source": [
    "'''\n",
    "SELECT DISTINCT city\n",
    "FROM sation\n",
    "WHERE city LIKE 'i%' \n",
    "or city LIKE 'a%' \n",
    "or city LIKE 'e%' \n",
    "or city LIKE 'o%' \n",
    "or city LIKE 'u%' \n",
    "'''"
   ]
  },
  {
   "cell_type": "markdown",
   "metadata": {},
   "source": [
    "### 문제 4: NOT LIKE\n",
    "https://www.hackerrank.com/challenges/weather-observation-station-12/problem"
   ]
  },
  {
   "cell_type": "code",
   "execution_count": 46,
   "metadata": {},
   "outputs": [
    {
     "data": {
      "text/plain": [
       "\"\\nSELECT DISTINCT City\\nFROM Station\\nWHERE REGEXP_LIKE(City, '^[^AEIOU].*[^aeiou]$')\\n\""
      ]
     },
     "execution_count": 46,
     "metadata": {},
     "output_type": "execute_result"
    }
   ],
   "source": [
    "'''\n",
    "SELECT DISTINCT City\n",
    "FROM Station\n",
    "WHERE REGEXP_LIKE(City, '^[^AEIOU].*[^aeiou]$')\n",
    "'''"
   ]
  },
  {
   "cell_type": "markdown",
   "metadata": {},
   "source": [
    "[^aeiou] -> should not match any character aeiou\n",
    "\n",
    "^[^aeiou] -> should not match first character with aeiou"
   ]
  },
  {
   "cell_type": "markdown",
   "metadata": {},
   "source": [
    "----------------------------"
   ]
  },
  {
   "cell_type": "markdown",
   "metadata": {},
   "source": [
    "# ORDER BY : 정렬\n",
    "\n",
    "## 최대, 최소, 순서대로 상위 3개?\n",
    "\n",
    "- 오름차순: 가장 작은 것 부터 차례대로 -> ASC\n",
    "- 내림차순 : 가장 큰 것 부터 -> DESC"
   ]
  },
  {
   "cell_type": "code",
   "execution_count": 51,
   "metadata": {},
   "outputs": [
    {
     "data": {
      "text/plain": [
       "'\\nSELECT *\\nFROM Customers\\nORDER BY customerid DESC # 내림차순\\n'"
      ]
     },
     "execution_count": 51,
     "metadata": {},
     "output_type": "execute_result"
    }
   ],
   "source": [
    "'''\n",
    "SELECT *\n",
    "FROM Customers\n",
    "ORDER BY customerid DESC # 내림차순\n",
    "'''"
   ]
  },
  {
   "cell_type": "markdown",
   "metadata": {},
   "source": [
    "### WHERE ,ORDER BY절"
   ]
  },
  {
   "cell_type": "code",
   "execution_count": 48,
   "metadata": {},
   "outputs": [
    {
     "data": {
      "text/plain": [
       "'\\nSELECT *\\nFROM Products\\nWHERE price >= 20\\nORDER BY price DESC\\n'"
      ]
     },
     "execution_count": 48,
     "metadata": {},
     "output_type": "execute_result"
    }
   ],
   "source": [
    "'''\n",
    "SELECT *\n",
    "FROM Products\n",
    "WHERE price >= 20\n",
    "ORDER BY price DESC\n",
    "'''"
   ]
  },
  {
   "cell_type": "markdown",
   "metadata": {},
   "source": [
    "### 가격 상위 3개"
   ]
  },
  {
   "cell_type": "code",
   "execution_count": 49,
   "metadata": {},
   "outputs": [
    {
     "data": {
      "text/plain": [
       "'\\nSELECT *\\nFROM Products\\nORDER BY price DESC\\nLIMIT 3\\n'"
      ]
     },
     "execution_count": 49,
     "metadata": {},
     "output_type": "execute_result"
    }
   ],
   "source": [
    "'''\n",
    "SELECT *\n",
    "FROM Products\n",
    "ORDER BY price DESC\n",
    "LIMIT 3\n",
    "'''"
   ]
  },
  {
   "cell_type": "markdown",
   "metadata": {},
   "source": [
    "### 가격 하위 3개"
   ]
  },
  {
   "cell_type": "code",
   "execution_count": 50,
   "metadata": {},
   "outputs": [
    {
     "data": {
      "text/plain": [
       "'\\nSELECT *\\nFROM Products\\nORDER BY price ASC\\nLIMIT 3\\n'"
      ]
     },
     "execution_count": 50,
     "metadata": {},
     "output_type": "execute_result"
    }
   ],
   "source": [
    "'''\n",
    "SELECT *\n",
    "FROM Products\n",
    "ORDER BY price ASC\n",
    "LIMIT 3\n",
    "'''"
   ]
  },
  {
   "cell_type": "markdown",
   "metadata": {},
   "source": [
    "### 문제 1: order by\n",
    "https://www.hackerrank.com/challenges/name-of-employees/problem?h_r=internal-search"
   ]
  },
  {
   "cell_type": "code",
   "execution_count": 52,
   "metadata": {},
   "outputs": [
    {
     "data": {
      "text/plain": [
       "'\\nSELECT name\\nFROM employee\\nORDER BY name\\n'"
      ]
     },
     "execution_count": 52,
     "metadata": {},
     "output_type": "execute_result"
    }
   ],
   "source": [
    "'''\n",
    "SELECT name\n",
    "FROM employee\n",
    "ORDER BY name\n",
    "'''"
   ]
  },
  {
   "cell_type": "markdown",
   "metadata": {},
   "source": [
    "### 문제 2: order by\n",
    "직원의 이름을 2000불 이상, 10달 이하 근무 한 직원 아이디 순으로 정렬해라.\n",
    "\n",
    "https://www.hackerrank.com/challenges/salary-of-employees/problem?h_r=internal-search"
   ]
  },
  {
   "cell_type": "code",
   "execution_count": 53,
   "metadata": {},
   "outputs": [
    {
     "data": {
      "text/plain": [
       "'\\nSELECT NAME\\nFROM Employee\\nWHERE salary > 2000 and months < 10\\nORDER BY employee_id\\n'"
      ]
     },
     "execution_count": 53,
     "metadata": {},
     "output_type": "execute_result"
    }
   ],
   "source": [
    "'''\n",
    "SELECT NAME\n",
    "FROM Employee\n",
    "WHERE salary > 2000 and months < 10\n",
    "ORDER BY employee_id\n",
    "'''"
   ]
  },
  {
   "cell_type": "markdown",
   "metadata": {},
   "source": [
    "### 문제 3: \n",
    "75점 초과, 마지막 세글자 기준 이름 정렬\n",
    "<br>\n",
    "https://www.hackerrank.com/challenges/more-than-75-marks/problem?h_r=internal-search"
   ]
  },
  {
   "cell_type": "markdown",
   "metadata": {},
   "source": [
    "### **문제3:문자열 자르기**"
   ]
  },
  {
   "cell_type": "markdown",
   "metadata": {},
   "source": [
    "**LEFT**(컬럼명 또는 문자열, 문자열의 길이)<BR>\n",
    "예시: SELECT LEFT('20200317', 4) -> 2014\n",
    "    \n",
    "**RIGHT**(컬럼명 또는 문자열, 문자열의 길이)<BR>\n",
    "예시: SELECT RIGHT('20200317', 5) -> 0317\n",
    "    \n",
    "**SUBSTRING**(컬럼명 또는 문자열, 시작 위치, 길이) \n",
    "=> **SUBSTR()** \n",
    "<BR>\n",
    "예시: SUBSTR('20200317, 1, 4') -> 2014\n",
    "예시: SUBSTR('20140323' , 5) -> 0323\n",
    "\n",
    "    \n"
   ]
  },
  {
   "cell_type": "code",
   "execution_count": 57,
   "metadata": {},
   "outputs": [
    {
     "data": {
      "text/plain": [
       "'\\nSELECT NAME\\nFROM students\\nWHERE Marks > 75\\nORDER BY RIGHT(NAME,3), ID\\n'"
      ]
     },
     "execution_count": 57,
     "metadata": {},
     "output_type": "execute_result"
    }
   ],
   "source": [
    "'''\n",
    "SELECT NAME\n",
    "FROM students\n",
    "WHERE Marks > 75\n",
    "ORDER BY RIGHT(NAME,3), ID\n",
    "'''"
   ]
  },
  {
   "cell_type": "markdown",
   "metadata": {},
   "source": [
    "### 문제 4:\n",
    "\n",
    "LONG_N을 소수점 4번째 자리까지 반올림 하고, LAT_N이 137.2345 초과인 LAT_N 최댓값을 찾아라.\n",
    "\n",
    "https://www.hackerrank.com/challenges/weather-observation-station-15/problem?h_r=internal-search"
   ]
  },
  {
   "cell_type": "markdown",
   "metadata": {},
   "source": [
    "### **문제 4_소수점 처리**"
   ]
  },
  {
   "cell_type": "markdown",
   "metadata": {},
   "source": [
    "**CEIL()** : 올림 <BR>\n",
    "예시 : SELECT CEIL(5.5) -> 6\n",
    "\n",
    "**FLOOR()** : 내림<BR>\n",
    "예시 : SELECT FLLOR(5.5) -> 5\n",
    "    \n",
    "**ROUND()** : 반올림 <BR>\n",
    "예시 : ROUND(5.556901, 4) -> 5.5769 "
   ]
  },
  {
   "cell_type": "code",
   "execution_count": 59,
   "metadata": {},
   "outputs": [
    {
     "data": {
      "text/plain": [
       "'SQL\\nSELECT ROUND(LONG_W, 4)\\nFROM STATION\\nWHERE LAT_N < 137.2345\\nORDER BY LAT_N DESC\\nLIMIT 1\\n'"
      ]
     },
     "execution_count": 59,
     "metadata": {},
     "output_type": "execute_result"
    }
   ],
   "source": [
    "'''\n",
    "SELECT ROUND(LONG_W, 4)\n",
    "FROM STATION\n",
    "WHERE LAT_N < 137.2345\n",
    "ORDER BY LAT_N DESC\n",
    "LIMIT 1\n",
    "'''"
   ]
  }
 ],
 "metadata": {
  "kernelspec": {
   "display_name": "Python 3",
   "language": "python",
   "name": "python3"
  },
  "language_info": {
   "codemirror_mode": {
    "name": "ipython",
    "version": 3
   },
   "file_extension": ".py",
   "mimetype": "text/x-python",
   "name": "python",
   "nbconvert_exporter": "python",
   "pygments_lexer": "ipython3",
   "version": "3.7.4"
  }
 },
 "nbformat": 4,
 "nbformat_minor": 2
}
