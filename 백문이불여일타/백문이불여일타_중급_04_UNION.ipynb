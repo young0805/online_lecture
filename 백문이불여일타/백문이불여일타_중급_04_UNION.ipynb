{
 "cells": [
  {
   "cell_type": "markdown",
   "metadata": {},
   "source": [
    "# UNION: 집합연산\n",
    "\n",
    "------------------------\n",
    "<BR><BR>"
   ]
  },
  {
   "cell_type": "markdown",
   "metadata": {},
   "source": [
    "## UNION \n",
    "두개의 데이터를 중복값을 없애고 위아래로 합쳐준다\n",
    "\n",
    "## UNION ALL\n",
    "두개의 데이터를 포함하고 위아래로 합쳐준다"
   ]
  },
  {
   "cell_type": "markdown",
   "metadata": {},
   "source": [
    "<BR>\n",
    "\n",
    "-----"
   ]
  },
  {
   "cell_type": "markdown",
   "metadata": {},
   "source": [
    "### 코드 예시: UNION 사용하지 않은 코드"
   ]
  },
  {
   "cell_type": "markdown",
   "metadata": {},
   "source": [
    "prodcut 테이블에서 price가 5이하 또는 200이상인 상품들만 출력하세요."
   ]
  },
  {
   "cell_type": "code",
   "execution_count": 1,
   "metadata": {},
   "outputs": [
    {
     "data": {
      "text/plain": [
       "'\\nSELECT *\\nFROM Products\\nWHERE price <= 5 or price >=200\\n'"
      ]
     },
     "execution_count": 1,
     "metadata": {},
     "output_type": "execute_result"
    }
   ],
   "source": [
    "'''\n",
    "SELECT *\n",
    "FROM Products\n",
    "WHERE price <= 5 or price >=200\n",
    "'''"
   ]
  },
  {
   "cell_type": "markdown",
   "metadata": {},
   "source": [
    "### 코드 예시: UNION 사용한 코드"
   ]
  },
  {
   "cell_type": "code",
   "execution_count": 2,
   "metadata": {},
   "outputs": [
    {
     "data": {
      "text/plain": [
       "'\\nSELECT *\\nFROM Products\\nWHERE price <= 5\\n\\nUNION\\n\\nSELECT *\\nFROM Products\\nWHERE price >=200\\n'"
      ]
     },
     "execution_count": 2,
     "metadata": {},
     "output_type": "execute_result"
    }
   ],
   "source": [
    "'''\n",
    "SELECT *\n",
    "FROM Products\n",
    "WHERE price <= 5\n",
    "\n",
    "UNION\n",
    "\n",
    "SELECT *\n",
    "FROM Products\n",
    "WHERE price >=200\n",
    "'''"
   ]
  },
  {
   "cell_type": "markdown",
   "metadata": {},
   "source": [
    "<BR>\n",
    "\n",
    "-------------------"
   ]
  },
  {
   "cell_type": "markdown",
   "metadata": {},
   "source": [
    "## 합집합 : LEFT, UNION, RIGHT 조합\n",
    "두개의 있는 테이블의 원소를 다 보고 싶을 때..."
   ]
  },
  {
   "cell_type": "code",
   "execution_count": null,
   "metadata": {},
   "outputs": [],
   "source": [
    "'''\n",
    "SELECT * \n",
    "FROM Customers\n",
    "    LEFT JOIN Orders ON Customers.Customerid = Orders.Customerid\n",
    "\n",
    "UNION\n",
    "    \n",
    "SELECT * \n",
    "FROM Customers\n",
    "    RIGHT JOIN Orders ON Customers.Customerid = Orders.Customerid\n",
    "'''"
   ]
  },
  {
   "cell_type": "markdown",
   "metadata": {},
   "source": [
    "-----------------------\n",
    "\n",
    "<BR><BR>"
   ]
  },
  {
   "cell_type": "markdown",
   "metadata": {},
   "source": [
    "#### 쉬어가기) MYSQL에서 지원하지 않지만 오라클에서 지원하는 함수 기능"
   ]
  },
  {
   "cell_type": "markdown",
   "metadata": {},
   "source": [
    "### 합집합: FULL OUTER -> MYSQL에서 지원안함."
   ]
  },
  {
   "cell_type": "code",
   "execution_count": 6,
   "metadata": {},
   "outputs": [
    {
     "data": {
      "text/plain": [
       "'\\nSELECT * \\nFROM Customers\\n    FULL OUTER JOIN Orders ON Customers.Customerid = Orders.Customerid\\n'"
      ]
     },
     "execution_count": 6,
     "metadata": {},
     "output_type": "execute_result"
    }
   ],
   "source": [
    "'''\n",
    "SELECT * \n",
    "FROM Customers\n",
    "    FULL OUTER JOIN Orders ON Customers.Customerid = Orders.Customerid\n",
    "'''"
   ]
  },
  {
   "cell_type": "markdown",
   "metadata": {},
   "source": [
    "### 차집합 함수: EXCEPT / MINUS"
   ]
  },
  {
   "cell_type": "markdown",
   "metadata": {},
   "source": [
    "위에 있는 데이터만 보고 싶을 때 사용."
   ]
  },
  {
   "cell_type": "code",
   "execution_count": 3,
   "metadata": {},
   "outputs": [
    {
     "data": {
      "text/plain": [
       "'\\nSELECT *\\nFROM Products\\nWHERE price <= 5\\n\\nEXCEPT 또는 MINUS\\n\\nSELECT *\\nFROM Products\\nWHERE price >=200\\n'"
      ]
     },
     "execution_count": 3,
     "metadata": {},
     "output_type": "execute_result"
    }
   ],
   "source": [
    "'''\n",
    "SELECT *\n",
    "FROM Products\n",
    "WHERE price <= 5\n",
    "\n",
    "EXCEPT 또는 MINUS\n",
    "\n",
    "SELECT *\n",
    "FROM Products\n",
    "WHERE price >=200\n",
    "'''"
   ]
  },
  {
   "cell_type": "markdown",
   "metadata": {},
   "source": [
    "### 교집합 : INTERSECT"
   ]
  },
  {
   "cell_type": "markdown",
   "metadata": {},
   "source": [
    "두 개의 테이블이 겹치는 부분을 보고 싶을 때 사용"
   ]
  },
  {
   "cell_type": "code",
   "execution_count": 5,
   "metadata": {},
   "outputs": [
    {
     "data": {
      "text/plain": [
       "'\\nSELECT *\\nFROM Products\\nWHERE price <= 5\\n\\nINTERSECT\\n\\nSELECT *\\nFROM Products\\nWHERE price >=200\\n'"
      ]
     },
     "execution_count": 5,
     "metadata": {},
     "output_type": "execute_result"
    }
   ],
   "source": [
    "'''\n",
    "SELECT *\n",
    "FROM Products\n",
    "WHERE price <= 5\n",
    "\n",
    "INTERSECT\n",
    "\n",
    "SELECT *\n",
    "FROM Products\n",
    "WHERE price >=200\n",
    "'''"
   ]
  },
  {
   "cell_type": "markdown",
   "metadata": {},
   "source": [
    "<BR><BR>\n",
    "\n",
    "\n",
    "-----------"
   ]
  },
  {
   "cell_type": "markdown",
   "metadata": {},
   "source": [
    "# **동영상 한번 더 보기**"
   ]
  },
  {
   "cell_type": "markdown",
   "metadata": {},
   "source": [
    "## 문제: Self JOIN, UNION, ORDER BY, INNER JOIN AND\n",
    "X,Y 복제해서 잘 한쌍을 출력해라?"
   ]
  },
  {
   "cell_type": "markdown",
   "metadata": {},
   "source": [
    "https://www.hackerrank.com/challenges/symmetric-pairs/problem?h_r=internal-search"
   ]
  },
  {
   "cell_type": "code",
   "execution_count": 7,
   "metadata": {},
   "outputs": [
    {
     "data": {
      "text/plain": [
       "'\\nSELECT X, Y\\nFROM functions\\nWHERE X = Y\\nGROUP BY X, Y\\nHAVING COUNT(*) = 2\\n\\nUNION\\n\\nSELECT f1.x, f1.y\\nFROM functions AS f1\\n    INNER JOIN functions AS F2 ON f1.x = f2.y AND f1.y = f2.x\\nWHERE f1.x < f1.y\\nORDER BY x\\n'"
      ]
     },
     "execution_count": 7,
     "metadata": {},
     "output_type": "execute_result"
    }
   ],
   "source": [
    "'''\n",
    "SELECT X, Y\n",
    "FROM functions\n",
    "WHERE X = Y\n",
    "GROUP BY X, Y\n",
    "HAVING COUNT(*) = 2\n",
    "\n",
    "UNION\n",
    "\n",
    "SELECT f1.x, f1.y\n",
    "FROM functions AS f1\n",
    "    INNER JOIN functions AS F2 ON f1.x = f2.y AND f1.y = f2.x\n",
    "WHERE f1.x < f1.y\n",
    "ORDER BY x\n",
    "'''"
   ]
  },
  {
   "cell_type": "markdown",
   "metadata": {},
   "source": [
    "#### 해설: 문제 구조"
   ]
  },
  {
   "cell_type": "markdown",
   "metadata": {},
   "source": [
    "20 20  -- x, y 가 같은 값일 때\n",
    "\n",
    "**union** \n",
    "\n",
    "20 21  -- x,y가 다르면서 x < y 일 때\n",
    "\n",
    "22 23\n",
    "\n",
    "**ORDER BY** x   -- x 기준으로 오름차순"
   ]
  },
  {
   "cell_type": "markdown",
   "metadata": {},
   "source": [
    "- union을 할 때는 **ORDER BY** 가 가장 마지막에 나와야한다."
   ]
  },
  {
   "cell_type": "code",
   "execution_count": null,
   "metadata": {},
   "outputs": [],
   "source": []
  }
 ],
 "metadata": {
  "kernelspec": {
   "display_name": "Python 3",
   "language": "python",
   "name": "python3"
  },
  "language_info": {
   "codemirror_mode": {
    "name": "ipython",
    "version": 3
   },
   "file_extension": ".py",
   "mimetype": "text/x-python",
   "name": "python",
   "nbconvert_exporter": "python",
   "pygments_lexer": "ipython3",
   "version": "3.7.4"
  }
 },
 "nbformat": 4,
 "nbformat_minor": 2
}
