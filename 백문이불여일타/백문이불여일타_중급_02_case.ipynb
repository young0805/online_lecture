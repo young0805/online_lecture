{
 "cells": [
  {
   "cell_type": "markdown",
   "metadata": {},
   "source": [
    "SQL 데이터 링크 : https://www.w3schools.com/sql/trysql.asp?filename=trysql_op_in"
   ]
  },
  {
   "cell_type": "markdown",
   "metadata": {},
   "source": [
    "<BR><BR>\n",
    "    \n",
    "---------------------\n",
    "\n",
    "# CASE : 조건\n",
    "\n",
    "#### case 문에서는 when절의 순서가 매우 중요하다. \n",
    "#### 이럴 때는 해당하는 갯수가 가정 적은 when절을 먼저 쓴다"
   ]
  },
  {
   "cell_type": "code",
   "execution_count": 3,
   "metadata": {},
   "outputs": [
    {
     "data": {
      "text/plain": [
       "'case 문 구조\\nSELECT CASE\\n            WHEN  ~~~~\\n            WHEN  ~~~~\\n        END\\nFROM\\n\\n'"
      ]
     },
     "execution_count": 3,
     "metadata": {},
     "output_type": "execute_result"
    }
   ],
   "source": [
    "'''case 문 구조\n",
    "SELECT CASE\n",
    "            WHEN  ~~~~\n",
    "            WHEN  ~~~~\n",
    "        END\n",
    "FROM\n",
    "\n",
    "'''\n"
   ]
  },
  {
   "cell_type": "markdown",
   "metadata": {},
   "source": [
    "#### CASE문을 작성할 때, 결과값을 예상하는 것은 쉽지 않다. 이럴 때 END 뒤에 *을 작성해준다"
   ]
  },
  {
   "cell_type": "markdown",
   "metadata": {},
   "source": [
    "## CASE문 예시"
   ]
  },
  {
   "cell_type": "code",
   "execution_count": 1,
   "metadata": {},
   "outputs": [
    {
     "data": {
      "text/plain": [
       "\"\\nSELECT CASE \\n            WHEN categoryid = 1 THEN '음료'\\n            WHEN categoryid = 2 THEN '조미료'\\n            ELSE '기타'\\n       END, *\\nFROM Products\\n\""
      ]
     },
     "execution_count": 1,
     "metadata": {},
     "output_type": "execute_result"
    }
   ],
   "source": [
    "'''\n",
    "SELECT CASE \n",
    "            WHEN categoryid = 1 THEN '음료'\n",
    "            WHEN categoryid = 2 THEN '조미료'\n",
    "            ELSE '기타'\n",
    "       END AS 'categoryidName', *  --- case문 컬럼 별칭\n",
    "FROM Products\n",
    "'''"
   ]
  },
  {
   "cell_type": "markdown",
   "metadata": {},
   "source": [
    "## CASE문 예시 : AND"
   ]
  },
  {
   "cell_type": "code",
   "execution_count": 4,
   "metadata": {
    "scrolled": true
   },
   "outputs": [
    {
     "data": {
      "text/plain": [
       "\"\\nSELECT CASE \\n            WHEN categoryid = 1 AND SupplierID = 1 THEN '음료'\\n            WHEN categoryid = 2 THEN '조미료'\\n            ELSE '기타'\\n       END AS 'categoryidName', *  \\nFROM Products\\n\""
      ]
     },
     "execution_count": 4,
     "metadata": {},
     "output_type": "execute_result"
    }
   ],
   "source": [
    "'''\n",
    "SELECT CASE \n",
    "            WHEN categoryid = 1 AND SupplierID = 1 THEN '음료' -- 두 조건을 만족할 때만, 음료\n",
    "            WHEN categoryid = 2 THEN '조미료'\n",
    "            ELSE '기타'\n",
    "       END AS 'categoryidName', *  \n",
    "FROM Products\n",
    "'''"
   ]
  },
  {
   "cell_type": "markdown",
   "metadata": {},
   "source": [
    "## CASE 예시 : CASE + GROUP BY"
   ]
  },
  {
   "cell_type": "markdown",
   "metadata": {},
   "source": [
    "CASE문으로 컬럼을 만들어주고, 그 컬럼을 GORUP BY 할 수 있다.\n",
    "<BR>\n",
    "\n",
    "카테고리 별로 1,2,논외 나눠주고 그 컬럼들의 평균 가격들을 구해라"
   ]
  },
  {
   "cell_type": "code",
   "execution_count": 5,
   "metadata": {},
   "outputs": [
    {
     "data": {
      "text/plain": [
       "\"\\nSELECT CASE\\n            WHEN categoryid = 1 THEN '음료'\\n            WHEN categoryid = 2 THEN '소스'\\n            ELSE '논외'\\n        END AS new_category\\n        , AVG(Price)\\nFROM Products\\nGROUP BY new_category\\n\""
      ]
     },
     "execution_count": 5,
     "metadata": {},
     "output_type": "execute_result"
    }
   ],
   "source": [
    "'''\n",
    "SELECT CASE\n",
    "            WHEN categoryid = 1 THEN '음료'\n",
    "            WHEN categoryid = 2 THEN '소스'\n",
    "            ELSE '논외'\n",
    "        END AS new_category\n",
    "        , AVG(Price)\n",
    "FROM Products\n",
    "GROUP BY new_category\n",
    "'''"
   ]
  },
  {
   "cell_type": "markdown",
   "metadata": {},
   "source": [
    "# CASE 활용한 피봇\n",
    "\n",
    "세로로 있는 테이블을 가로로 변경하는 것"
   ]
  },
  {
   "cell_type": "markdown",
   "metadata": {},
   "source": [
    "**예시-피봇 되기 전**"
   ]
  },
  {
   "cell_type": "code",
   "execution_count": 2,
   "metadata": {},
   "outputs": [
    {
     "data": {
      "text/plain": [
       "'\\nCategoryid AVG(Price)\\n1          3.5\\n2          70.9\\n'"
      ]
     },
     "execution_count": 2,
     "metadata": {},
     "output_type": "execute_result"
    }
   ],
   "source": [
    "'''\n",
    "Categoryid AVG(Price)\n",
    "1          3.5\n",
    "2          70.9\n",
    "'''"
   ]
  },
  {
   "cell_type": "markdown",
   "metadata": {},
   "source": [
    "**예시-피봇 된 모습** -> 결과 값이 가로로 나오는 것을 알 수 있다."
   ]
  },
  {
   "cell_type": "code",
   "execution_count": 4,
   "metadata": {},
   "outputs": [
    {
     "data": {
      "text/plain": [
       "'\\nCategoryid1_avg   Categoryid2_avg   Categoryid3_avg\\n3.5                  70.9             80\\n'"
      ]
     },
     "execution_count": 4,
     "metadata": {},
     "output_type": "execute_result"
    }
   ],
   "source": [
    "'''\n",
    "Categoryid1_avg   Categoryid2_avg   Categoryid3_avg\n",
    "3.5                  70.9             80\n",
    "'''"
   ]
  },
  {
   "cell_type": "markdown",
   "metadata": {},
   "source": [
    "## 피봇 예시 \n",
    "카테고리 별 평균 가격을 볼 수 있는 방법"
   ]
  },
  {
   "cell_type": "code",
   "execution_count": null,
   "metadata": {},
   "outputs": [],
   "source": [
    "'''\n",
    "SELECT AVG(CASE WHEN categoryid = 1 THEN price ELSE NULL END) AS category1_avg_price,\n",
    "       AVG(CASE WHEN categoryid = 2 THEN price ELSE NULL END) AS category2_avg_price,\n",
    "       AVG(CASE WHEN categoryid = 3 THEN price ELSE NULL END) AS category3_avg_price\n",
    "FROM Products\n",
    "'''"
   ]
  },
  {
   "cell_type": "markdown",
   "metadata": {},
   "source": [
    "<BR><BR>\n",
    "\n",
    "---------"
   ]
  },
  {
   "cell_type": "markdown",
   "metadata": {},
   "source": [
    "# 문제 1 : 삼각형 문제"
   ]
  },
  {
   "cell_type": "markdown",
   "metadata": {},
   "source": [
    "https://www.hackerrank.com/challenges/what-type-of-triangle/problem?h_r=internal-search"
   ]
  },
  {
   "cell_type": "markdown",
   "metadata": {},
   "source": [
    "**when절의 순서가 매우 중요하다**\n",
    "\n",
    "- 정삼각형 , 이등변, 삼각형, 삼각형이 안된다 조건문을 만들어라"
   ]
  },
  {
   "cell_type": "code",
   "execution_count": 5,
   "metadata": {},
   "outputs": [
    {
     "data": {
      "text/plain": [
       "\"\\nSELECT CASE\\n            WHEN A = B AND B = C THEN 'Equilateral'\\n            WHEN A + B <= C OR A + C <= B OR B + C <= A  THEN 'NOT a Triangle'\\n            WHEN A = B OR B = C OR A = C THEN 'Isosceles'\\n            ELSE 'Scalene'\\n        END , A, B, C  --- Sql 문제를 풀 때 출력값을 한번 뽑아서 확인하자\\nFROM Triangles\\n\""
      ]
     },
     "execution_count": 5,
     "metadata": {},
     "output_type": "execute_result"
    }
   ],
   "source": [
    "'''\n",
    "SELECT CASE\n",
    "            WHEN A = B AND B = C THEN 'Equilateral'\n",
    "            WHEN A + B <= C OR A + C <= B OR B + C <= A  THEN 'NOT a Triangle'\n",
    "            WHEN A = B OR B = C OR A = C THEN 'Isosceles'\n",
    "            ELSE 'Scalene'\n",
    "        END , A, B, C  --- Sql 문제를 풀 때 출력값을 한번 뽑아서 확인하자\n",
    "FROM Triangles\n",
    "'''"
   ]
  },
  {
   "cell_type": "markdown",
   "metadata": {},
   "source": [
    "# 문제 2: 피봇 테이블\n",
    "#### GROUP BY, SUM, "
   ]
  },
  {
   "cell_type": "markdown",
   "metadata": {},
   "source": [
    "https://leetcode.com/problems/reformat-department-table/"
   ]
  },
  {
   "cell_type": "code",
   "execution_count": 6,
   "metadata": {},
   "outputs": [
    {
     "data": {
      "text/plain": [
       "\"\\nSELECT id\\n    ,SUM(CASE WHEN month = 'jan' THEN Revenue ELSE NULL END) AS Jan_Revenue\\n    ,SUM(CASE WHEN month = 'feb' THEN Revenue ELSE NULL END) AS Feb_Revenue\\n    ,SUM(CASE WHEN month = 'mar' THEN Revenue ELSE NULL END) AS Mar_Revenue\\n    ,SUM(CASE WHEN month = 'apr' THEN Revenue ELSE NULL END) AS Apr_Revenue\\n    ,SUM(CASE WHEN month = 'may' THEN Revenue ELSE NULL END) AS May_Revenue\\n    ,SUM(CASE WHEN month = 'jun' THEN Revenue ELSE NULL END) AS Jun_Revenue\\n    ,SUM(CASE WHEN month = 'jul' THEN Revenue ELSE NULL END) AS Jul_Revenue\\n    ,SUM(CASE WHEN month = 'aug' THEN Revenue ELSE NULL END) AS Aug_Revenue\\n    ,SUM(CASE WHEN month = 'sep' THEN Revenue ELSE NULL END) AS Sep_Revenue\\n    ,SUM(CASE WHEN month = 'oct' THEN Revenue ELSE NULL END) AS Oct_Revenue\\n    ,SUM(CASE WHEN month = 'nob' THEN Revenue ELSE NULL END) AS Nov_Revenue\\n    ,SUM(CASE WHEN month = 'dec' THEN Revenue ELSE NULL END) AS Dec_Revenue\\nFROM Department\\nGROUP BY id\\n\""
      ]
     },
     "execution_count": 6,
     "metadata": {},
     "output_type": "execute_result"
    }
   ],
   "source": [
    "'''\n",
    "SELECT id\n",
    "    ,SUM(CASE WHEN month = 'jan' THEN Revenue ELSE NULL END) AS Jan_Revenue\n",
    "    ,SUM(CASE WHEN month = 'feb' THEN Revenue ELSE NULL END) AS Feb_Revenue\n",
    "    ,SUM(CASE WHEN month = 'mar' THEN Revenue ELSE NULL END) AS Mar_Revenue\n",
    "    ,SUM(CASE WHEN month = 'apr' THEN Revenue ELSE NULL END) AS Apr_Revenue\n",
    "    ,SUM(CASE WHEN month = 'may' THEN Revenue ELSE NULL END) AS May_Revenue\n",
    "    ,SUM(CASE WHEN month = 'jun' THEN Revenue ELSE NULL END) AS Jun_Revenue\n",
    "    ,SUM(CASE WHEN month = 'jul' THEN Revenue ELSE NULL END) AS Jul_Revenue\n",
    "    ,SUM(CASE WHEN month = 'aug' THEN Revenue ELSE NULL END) AS Aug_Revenue\n",
    "    ,SUM(CASE WHEN month = 'sep' THEN Revenue ELSE NULL END) AS Sep_Revenue\n",
    "    ,SUM(CASE WHEN month = 'oct' THEN Revenue ELSE NULL END) AS Oct_Revenue\n",
    "    ,SUM(CASE WHEN month = 'nob' THEN Revenue ELSE NULL END) AS Nov_Revenue\n",
    "    ,SUM(CASE WHEN month = 'dec' THEN Revenue ELSE NULL END) AS Dec_Revenue\n",
    "FROM Department\n",
    "GROUP BY id\n",
    "'''"
   ]
  },
  {
   "cell_type": "code",
   "execution_count": null,
   "metadata": {},
   "outputs": [],
   "source": []
  }
 ],
 "metadata": {
  "kernelspec": {
   "display_name": "Python 3",
   "language": "python",
   "name": "python3"
  },
  "language_info": {
   "codemirror_mode": {
    "name": "ipython",
    "version": 3
   },
   "file_extension": ".py",
   "mimetype": "text/x-python",
   "name": "python",
   "nbconvert_exporter": "python",
   "pygments_lexer": "ipython3",
   "version": "3.7.4"
  }
 },
 "nbformat": 4,
 "nbformat_minor": 2
}
